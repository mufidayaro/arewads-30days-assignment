{
 "cells": [
  {
   "cell_type": "markdown",
   "metadata": {},
   "source": [
    "### Exercise 8.1"
   ]
  },
  {
   "cell_type": "code",
   "execution_count": 2,
   "metadata": {},
   "outputs": [
    {
     "name": "stdout",
     "output_type": "stream",
     "text": [
      "In this chapter, we are learning about functions in Python.\n"
     ]
    }
   ],
   "source": [
    "\"\"\"Write a function called display_message() that prints one sentence telling everyone what you are learning about in this chapter. Call the \n",
    "function, and make sure the message displays correctly\"\"\"\n",
    "def display_message():\n",
    "    print(\"In this chapter, we are learning about functions in Python.\")\n",
    "display_message()"
   ]
  },
  {
   "cell_type": "markdown",
   "metadata": {},
   "source": [
    "### Exercise 8.2"
   ]
  },
  {
   "cell_type": "code",
   "execution_count": 3,
   "metadata": {},
   "outputs": [
    {
     "name": "stdout",
     "output_type": "stream",
     "text": [
      "One of my favorite books is Alice in Wonderland.\n"
     ]
    }
   ],
   "source": [
    "\"\"\"Write a function called favorite_book() that accepts one \n",
    "parameter, title. The function should print a message, such as One of my \n",
    "favorite books is Alice in Wonderland. Call the function, making sure to \n",
    "include a book title as an argument in the function call.\"\"\" \n",
    "def favorite_book(title):\n",
    "    print(f\"One of my favorite books is {title}.\")\n",
    "favorite_book(\"Alice in Wonderland\")"
   ]
  },
  {
   "cell_type": "markdown",
   "metadata": {},
   "source": [
    "### Exercise 8.3"
   ]
  },
  {
   "cell_type": "code",
   "execution_count": 5,
   "metadata": {},
   "outputs": [
    {
     "name": "stdout",
     "output_type": "stream",
     "text": [
      "I'm making an M shirt with the message 'Python is my favorite!' printed on it.\n",
      "I'm making an XL shirt with the message 'Coding is fun!' printed on it.\n"
     ]
    }
   ],
   "source": [
    "\"\"\"Write a function called make_shirt() that accepts a size and the \n",
    "text of a message that should be printed on the shirt. The function should print a \n",
    "sentence summarizing the size of the shirt and the message printed on it.\n",
    "Call the function once using positional arguments to make a shirt. Call the \n",
    "function a second time using keyword arguments.\"\"\" \n",
    "def make_shirt(size, message):\n",
    "    print(f\"I'm making an {size} shirt with the message '{message}' printed on it.\")\n",
    "make_shirt(\"M\", \"Python is my favorite!\")\n",
    "\n",
    "make_shirt(message=\"Coding is fun!\", size=\"XL\")"
   ]
  },
  {
   "cell_type": "markdown",
   "metadata": {},
   "source": [
    "### Exercise 8.4"
   ]
  },
  {
   "cell_type": "code",
   "execution_count": 7,
   "metadata": {},
   "outputs": [
    {
     "name": "stdout",
     "output_type": "stream",
     "text": [
      "I'm making a L shirt with the message 'Python is my favourite!' printed on it.\n",
      "I'm making a M shirt with the message 'Python is my favourite!' printed on it.\n",
      "I'm making a XL shirt with the message 'Coding is fun!' printed on it.\n"
     ]
    }
   ],
   "source": [
    "\"\"\"Modify the make_shirt() function so that shirts are large \n",
    "by default with a message that reads I love Python. Make a large shirt and a \n",
    "medium shirt with the default message, and a shirt of any size with a different \n",
    "message\"\"\" \n",
    "def make_shirt(size=\"L\", message=\"Python is my favourite!\"):\n",
    "    print(f\"I'm making a {size} shirt with the message '{message}' printed on it.\")\n",
    "make_shirt()\n",
    "make_shirt(size=\"M\")\n",
    "make_shirt(message=\"Coding is fun!\", size=\"XL\")"
   ]
  },
  {
   "cell_type": "markdown",
   "metadata": {},
   "source": [
    "### Exercise 8.5"
   ]
  },
  {
   "cell_type": "code",
   "execution_count": 8,
   "metadata": {},
   "outputs": [
    {
     "name": "stdout",
     "output_type": "stream",
     "text": [
      "Reykjavik is in Iceland.\n",
      "Tokyo is in Japan.\n",
      "Paris is in France.\n"
     ]
    }
   ],
   "source": [
    "\"\"\"Write a function called describe_city() that accepts the name of \n",
    "a city and its country. The function should print a simple sentence, such as \n",
    "Reykjavik is in Iceland. Give the parameter for the country a default value. \n",
    "Call your function for three different cities, at least one of which is not in the \n",
    "default country.\"\"\"\n",
    "def describe_city(city_name, country=\"Iceland\"):\n",
    "    print(f\"{city_name.title()} is in {country.title()}.\")\n",
    "describe_city(\"reykjavik\")\n",
    "describe_city(\"tokyo\", country=\"japan\")\n",
    "describe_city(\"paris\", country=\"france\")"
   ]
  },
  {
   "cell_type": "markdown",
   "metadata": {},
   "source": [
    "### Exercise 8.6"
   ]
  },
  {
   "cell_type": "code",
   "execution_count": 9,
   "metadata": {},
   "outputs": [
    {
     "name": "stdout",
     "output_type": "stream",
     "text": [
      "Santiago, Chile\n",
      "London, England\n",
      "Tokyo, Japan\n"
     ]
    }
   ],
   "source": [
    "\"\"\"Write a function called city_country() that takes in the name \n",
    "of a city and its country. The function should return a string formatted like this:\n",
    "\"Santiago, Chile\"\n",
    "Call your function with at least three city-country pairs, and print the values \n",
    "that are returned.\"\"\" \n",
    "def city_country(city_name, country):\n",
    "    return f\"{city_name.title()}, {country.title()}\"\n",
    "print(city_country(\"santiago\", \"chile\"))\n",
    "print(city_country(\"london\", \"england\"))\n",
    "print(city_country(\"tokyo\", \"japan\"))"
   ]
  },
  {
   "cell_type": "markdown",
   "metadata": {},
   "source": [
    "### Exercise 8.7"
   ]
  },
  {
   "cell_type": "code",
   "execution_count": 10,
   "metadata": {},
   "outputs": [
    {
     "name": "stdout",
     "output_type": "stream",
     "text": [
      "{'artist': 'Kendrick Lamar', 'album': 'To Pimp A Butterfly'}\n",
      "{'artist': 'Beyoncé', 'album': 'Lemonade'}\n",
      "{'artist': 'Taylor Swift', 'album': 'Folklore', 'songs': 16}\n"
     ]
    }
   ],
   "source": [
    "\"\"\"Write a function called make_album() that builds a dictionary \n",
    "describing a music album. The function should take in an artist name and an \n",
    "album title, and it should return a dictionary containing these two pieces of \n",
    "information. Use the function to make three dictionaries representing different \n",
    "albums. Print each return value to show that the dictionaries are storing the \n",
    "album information correctly.\n",
    "Use None to add an optional parameter to make_album() that allows you to \n",
    "store the number of songs on an album. If the calling line includes a value for \n",
    "the number of songs, add that value to the album’s dictionary. Make at least \n",
    "one new function call that includes the number of songs on an album.\"\"\" \n",
    "def make_album(artist_name, album_title, num_songs=None):\n",
    "    album_dict = {\n",
    "      \"artist\": artist_name.title(),\n",
    "      \"album\": album_title.title(),\n",
    "  }\n",
    "    if num_songs:\n",
    "        album_dict[\"songs\"] = num_songs\n",
    "    return album_dict\n",
    "\n",
    "album1 = make_album(\"kendrick lamar\", \"to pimp a butterfly\")\n",
    "album2 = make_album(\"beyoncé\", \"lemonade\")\n",
    "album3 = make_album(\"taylor swift\", \"folklore\", 16)\n",
    "print(album1)\n",
    "print(album2)\n",
    "print(album3)"
   ]
  },
  {
   "cell_type": "markdown",
   "metadata": {},
   "source": [
    "### Exercise 8.8"
   ]
  },
  {
   "cell_type": "code",
   "execution_count": 17,
   "metadata": {},
   "outputs": [
    {
     "name": "stdout",
     "output_type": "stream",
     "text": [
      "Album information:\n",
      "{'artist': 'Taylor Swift', 'title': 'Folklore'}\n"
     ]
    }
   ],
   "source": [
    "\"\"\"Write a while loop that allows users to enter an album’s artist and title. Once you have that \n",
    "information, call make_album() with the user’s input and print the dictionary \n",
    "that’s created. Be sure to include a quit value in the while loop\"\"\" \n",
    "def make_album(artist, title):\n",
    "    \"\"\"Create a dictionary representing an album.\"\"\"\n",
    "    album_info = {'artist': artist, 'title': title}\n",
    "    return album_info\n",
    "\n",
    "while True:\n",
    "    artist = input(\"Enter the artist's name (or 'quit' to exit): \")\n",
    "    \n",
    "    if artist.lower() == 'quit':\n",
    "        break\n",
    "    \n",
    "    title = input(\"Enter the album title: \")\n",
    "\n",
    "    album = make_album(artist, title)\n",
    "    print(\"Album information:\")\n",
    "    print(album)\n",
    "    break"
   ]
  },
  {
   "cell_type": "markdown",
   "metadata": {},
   "source": [
    "### Exercise 8.9"
   ]
  },
  {
   "cell_type": "code",
   "execution_count": 21,
   "metadata": {},
   "outputs": [
    {
     "name": "stdout",
     "output_type": "stream",
     "text": [
      "Hello, how are you?\n",
      "Don't forget to buy groceries.\n",
      "Meeting at 2 PM in the conference room.\n",
      "It's new year!\n",
      "Happy new year!\n"
     ]
    }
   ],
   "source": [
    "\"\"\"Make a list containing a series of short text messages. Pass the \n",
    "list to a function called show_messages(), which prints each text message\"\"\" \n",
    "def show_messages(messages):\n",
    "    for message in messages:\n",
    "        print(message)\n",
    "text_messages = [\n",
    "    \"Hello, how are you?\",\n",
    "    \"Don't forget to buy groceries.\",\n",
    "    \"Meeting at 2 PM in the conference room.\",\n",
    "    \"It's new year!\",\n",
    "    \"Happy new year!\",\n",
    "]\n",
    "show_messages(text_messages)"
   ]
  },
  {
   "cell_type": "markdown",
   "metadata": {},
   "source": [
    "### Exercise 8.10"
   ]
  },
  {
   "cell_type": "code",
   "execution_count": 22,
   "metadata": {},
   "outputs": [
    {
     "name": "stdout",
     "output_type": "stream",
     "text": [
      "Sending message:  Hello, how are you?\n",
      "Sending message:  Don't forget to buy groceries.\n",
      "Sending message:  Meeting at 2 PM in the conference room.\n",
      "Sending message:  It's new year!\n",
      "Sending message:  Happy new year!\n",
      "Original messages:\n",
      "[]\n",
      "\n",
      "Sent messages:\n",
      "['Hello, how are you?', \"Don't forget to buy groceries.\", 'Meeting at 2 PM in the conference room.', \"It's new year!\", 'Happy new year!']\n"
     ]
    }
   ],
   "source": [
    "\"\"\"Start with a copy of your program from Exercise 8-9. \n",
    "Write a function called send_messages() that prints each text message and \n",
    "moves each message to a new list called sent_messages as it’s printed. After \n",
    "calling the function, print both of your lists to make sure the messages were \n",
    "moved correctly\"\"\" \n",
    "def send_messages(messages, sent_messages):\n",
    "    while messages:\n",
    "        current_message = messages.pop(0)\n",
    "        print(\"Sending message: \", current_message)\n",
    "        sent_messages.append(current_message)\n",
    "text_messages = [\n",
    "    \"Hello, how are you?\",\n",
    "    \"Don't forget to buy groceries.\",\n",
    "    \"Meeting at 2 PM in the conference room.\",\n",
    "    \"It's new year!\",\n",
    "    \"Happy new year!\",\n",
    "]\n",
    "sent_messages = []\n",
    "send_messages(text_messages, sent_messages)\n",
    "\n",
    "print(\"Original messages:\")\n",
    "print(text_messages)\n",
    "\n",
    "print(\"\\nSent messages:\")\n",
    "print(sent_messages)"
   ]
  },
  {
   "cell_type": "markdown",
   "metadata": {},
   "source": [
    "### Exrrcise 8.11"
   ]
  },
  {
   "cell_type": "code",
   "execution_count": 24,
   "metadata": {},
   "outputs": [
    {
     "name": "stdout",
     "output_type": "stream",
     "text": [
      "Sending message:  Hello, how are you?\n",
      "Sending message:  Don't forget to buy groceries.\n",
      "Sending message:  Meeting at 2 PM in the conference room.\n",
      "Sending message:  It's new year!\n",
      "Sending message:  Happy new year!\n",
      "Original messages:\n",
      "['Hello, how are you?', \"Don't forget to buy groceries.\", 'Meeting at 2 PM in the conference room.', \"It's new year!\", 'Happy new year!']\n",
      "\n",
      "Sent messages:\n",
      "['Hello, how are you?', \"Don't forget to buy groceries.\", 'Meeting at 2 PM in the conference room.', \"It's new year!\", 'Happy new year!']\n"
     ]
    }
   ],
   "source": [
    "\"\"\"Start with your work from Exercise 8-10. Call the function\n",
    "send_messages() with a copy of the list of messages. \n",
    "After calling the function, print both of your lists to show that \n",
    "the original list has retained its messages.\"\"\" \n",
    "def send_messages(messages, sent_messages):\n",
    "    while messages:\n",
    "        current_message = messages.pop(0)\n",
    "        print(\"Sending message: \", current_message)\n",
    "        sent_messages.append(current_message)\n",
    "        \n",
    "text_messages = [\n",
    "    \"Hello, how are you?\",\n",
    "    \"Don't forget to buy groceries.\",\n",
    "    \"Meeting at 2 PM in the conference room.\",\n",
    "    \"It's new year!\",\n",
    "    \"Happy new year!\",\n",
    "]\n",
    "\n",
    "messages_copy = text_messages.copy()\n",
    "\n",
    "sent_messages = []\n",
    "\n",
    "send_messages(messages_copy, sent_messages)\n",
    "\n",
    "print(\"Original messages:\")\n",
    "print(text_messages)\n",
    "\n",
    "print(\"\\nSent messages:\")\n",
    "print(sent_messages)"
   ]
  },
  {
   "cell_type": "markdown",
   "metadata": {},
   "source": [
    "### Exercise 8.12"
   ]
  },
  {
   "cell_type": "code",
   "execution_count": 25,
   "metadata": {},
   "outputs": [
    {
     "name": "stdout",
     "output_type": "stream",
     "text": [
      "Making a sandwich with the following items:\n",
      "- Ham\n",
      "- Cheese\n",
      "- Lettuce\n",
      "Sandwich is ready!\n",
      "\n",
      "Making a sandwich with the following items:\n",
      "- Turkey\n",
      "- Swiss\n",
      "- Tomato\n",
      "- Mayo\n",
      "Sandwich is ready!\n",
      "\n",
      "Making a sandwich with the following items:\n",
      "- Peanut Butter\n",
      "- Jelly\n",
      "Sandwich is ready!\n",
      "\n"
     ]
    }
   ],
   "source": [
    "\"\"\"Write a function that accepts a list of items a person wants \n",
    "on a sandwich. The function should have one parameter that collects as many \n",
    "items as the function call provides, and it should print a summary of the sandwich \n",
    "that’s being ordered. Call the function three times, using a different number of arguments each time\"\"\" \n",
    "def make_sandwich(*items):\n",
    "    print(\"Making a sandwich with the following items:\")\n",
    "    for item in items:\n",
    "        print(\"- \" + item)\n",
    "    print(\"Sandwich is ready!\\n\")\n",
    "\n",
    "make_sandwich(\"Ham\", \"Cheese\", \"Lettuce\")\n",
    "make_sandwich(\"Turkey\", \"Swiss\", \"Tomato\", \"Mayo\")\n",
    "make_sandwich(\"Peanut Butter\", \"Jelly\")"
   ]
  },
  {
   "cell_type": "markdown",
   "metadata": {},
   "source": [
    "### Exercise 8.13"
   ]
  },
  {
   "cell_type": "code",
   "execution_count": 28,
   "metadata": {},
   "outputs": [
    {
     "name": "stdout",
     "output_type": "stream",
     "text": [
      "{'first_name': 'Mufida', 'last_name': 'Yaro', 'age': 21, 'occupation': 'Computer Scientist', 'hobbies': ['Reading', 'Coding', 'Learning']}\n"
     ]
    }
   ],
   "source": [
    "\"\"\"Start with a copy of user_profile.py from page 148. Build a \n",
    "profile of yourself by calling build_profile(), using your first and last names \n",
    "and three other key-value pairs that describe you\"\"\" \n",
    "def build_profile(first_name, last_name, **additional_info):\n",
    "    profile = {'first_name': first_name, 'last_name': last_name}\n",
    "    for key, value in additional_info.items():\n",
    "        profile[key] = value\n",
    "    return profile\n",
    "\n",
    "my_profile = build_profile(\n",
    "    first_name=\"Mufida\",\n",
    "    last_name=\"Yaro\",\n",
    "    age=21,\n",
    "    occupation=\"Computer Scientist\",\n",
    "    hobbies=[\"Reading\", \"Coding\", \"Learning\"]\n",
    ")\n",
    "print(my_profile)"
   ]
  },
  {
   "cell_type": "markdown",
   "metadata": {},
   "source": [
    "### Exercise 8.14"
   ]
  },
  {
   "cell_type": "code",
   "execution_count": 29,
   "metadata": {},
   "outputs": [
    {
     "name": "stdout",
     "output_type": "stream",
     "text": [
      "{'manufacturer': 'subaru', 'model': 'outback', 'color': 'blue', 'tow_package': True}\n"
     ]
    }
   ],
   "source": [
    "\"\"\"Write a function that stores information about a car in a dictionary. The function should always receive a manufacturer and a model name. It \n",
    "should then accept an arbitrary number of keyword arguments. Call the function with the required information and two other name-value pairs, such as a \n",
    "color or an optional feature. Your function should work for a call like this one:\n",
    "car = make_car('subaru', 'outback', color='blue', tow_package=True)\n",
    "Print the dictionary that’s returned to make sure all the information was \n",
    "stored correctly\"\"\" \n",
    "def make_car(manufacturer, model, **kwargs):\n",
    "    car_info = {'manufacturer': manufacturer, 'model': model}\n",
    "    car_info.update(kwargs)\n",
    "    return car_info\n",
    "car = make_car('subaru', 'outback', color='blue', tow_package=True)\n",
    "print(car)"
   ]
  },
  {
   "cell_type": "markdown",
   "metadata": {},
   "source": [
    "### Exercise 8.15"
   ]
  },
  {
   "cell_type": "code",
   "execution_count": 5,
   "metadata": {},
   "outputs": [
    {
     "name": "stdout",
     "output_type": "stream",
     "text": [
      "Printing model: dodecahedron\n",
      "Printing model: robot pendant\n",
      "Printing model: phone case\n",
      "\n",
      "Completed models:\n",
      "dodecahedron\n",
      "robot pendant\n",
      "phone case\n"
     ]
    }
   ],
   "source": [
    "from printing_functions import print_models, show_completed_models\n",
    "\n",
    "designs_to_print = ['phone case', 'robot pendant', 'dodecahedron']\n",
    "completed_models = []\n",
    "\n",
    "print_models(designs_to_print, completed_models)\n",
    "show_completed_models(completed_models)    "
   ]
  },
  {
   "cell_type": "markdown",
   "metadata": {},
   "source": [
    "### Exercise 8.16"
   ]
  },
  {
   "cell_type": "code",
   "execution_count": 7,
   "metadata": {},
   "outputs": [
    {
     "name": "stdout",
     "output_type": "stream",
     "text": [
      "Hello from my_functions.py!\n",
      "Hello from my_functions.py!\n",
      "Hello from my_functions.py!\n",
      "Hello from my_functions.py!\n",
      "Hello from my_functions.py!\n"
     ]
    }
   ],
   "source": [
    "\"\"\"Using a program you wrote that has one function in it, store that \n",
    "function in a separate file. Import the function into your main program file, and \n",
    "call the function using each of these approaches:\n",
    "import module_name\n",
    "from module_name import function_name\n",
    "from module_name import function_name as fn\n",
    "import module_name as mn\n",
    "from module_name import *\"\"\" \n",
    "import my_functions\n",
    "\n",
    "my_functions.say_hello()  \n",
    "\n",
    "from my_functions import say_hello\n",
    "\n",
    "say_hello() \n",
    "\n",
    "from my_functions import say_hello as greet\n",
    "\n",
    "greet() \n",
    "\n",
    "import my_functions as mf\n",
    "\n",
    "mf.say_hello()  \n",
    "\n",
    "from my_functions import *\n",
    "\n",
    "say_hello() "
   ]
  },
  {
   "cell_type": "markdown",
   "metadata": {},
   "source": [
    "### Exercise 8.17"
   ]
  },
  {
   "cell_type": "code",
   "execution_count": 8,
   "metadata": {},
   "outputs": [
    {
     "name": "stdout",
     "output_type": "stream",
     "text": [
      "Making a sandwich with the following ingredients:\n",
      "- Ham\n",
      "- Cheese\n",
      "- Lettuce\n",
      "Sandwich is ready!\n",
      "\n",
      "Making a sandwich with the following ingredients:\n",
      "- Turkey\n",
      "- Swiss\n",
      "- Tomato\n",
      "- Mayo\n",
      "Sandwich is ready!\n",
      "\n",
      "Making a sandwich with the following ingredients:\n",
      "- Peanut Butter\n",
      "- Jelly\n",
      "Sandwich is ready!\n",
      "\n"
     ]
    }
   ],
   "source": [
    "\"\"\"Choose any three programs you wrote for this chapter, \n",
    "and make sure they follow the styling guidelines described in this section.\"\"\" \n",
    "def make_sandwich(*ingredients):\n",
    "    print(\"Making a sandwich with the following ingredients:\")\n",
    "    for ingredient in ingredients:\n",
    "        print(\"- \" + ingredient)\n",
    "    print(\"Sandwich is ready!\\n\")\n",
    "    \n",
    "make_sandwich(\"Ham\", \"Cheese\", \"Lettuce\")\n",
    "make_sandwich(\"Turkey\", \"Swiss\", \"Tomato\", \"Mayo\")\n",
    "make_sandwich(\"Peanut Butter\", \"Jelly\")"
   ]
  }
 ],
 "metadata": {
  "kernelspec": {
   "display_name": "Python 3",
   "language": "python",
   "name": "python3"
  },
  "language_info": {
   "codemirror_mode": {
    "name": "ipython",
    "version": 3
   },
   "file_extension": ".py",
   "mimetype": "text/x-python",
   "name": "python",
   "nbconvert_exporter": "python",
   "pygments_lexer": "ipython3",
   "version": "3.11.3"
  }
 },
 "nbformat": 4,
 "nbformat_minor": 2
}
