{
 "cells": [
  {
   "cell_type": "markdown",
   "metadata": {},
   "source": [
    "# Day8 Assignment"
   ]
  },
  {
   "cell_type": "markdown",
   "metadata": {},
   "source": [
    "## Exercises:"
   ]
  },
  {
   "cell_type": "markdown",
   "metadata": {},
   "source": [
    "### Exercise 1"
   ]
  },
  {
   "cell_type": "code",
   "execution_count": 1,
   "metadata": {},
   "outputs": [],
   "source": [
    "#Create an empty dictionary called dog\n",
    "dog = {}"
   ]
  },
  {
   "cell_type": "markdown",
   "metadata": {},
   "source": [
    "### Exercise 2"
   ]
  },
  {
   "cell_type": "code",
   "execution_count": 2,
   "metadata": {},
   "outputs": [
    {
     "name": "stdout",
     "output_type": "stream",
     "text": [
      "{'name': 'snoopy', 'color': 'brown', 'breed': 'beagle', 'legs': 4, 'age': 3}\n"
     ]
    }
   ],
   "source": [
    "#Add name, color, breed, legs, age to the dog dictionary\n",
    "dog = {'name': 'snoopy', 'color': 'brown', 'breed': 'beagle', 'legs': 4, 'age': 3}\n",
    "print(dog)"
   ]
  },
  {
   "cell_type": "markdown",
   "metadata": {},
   "source": [
    "### Exercise 3"
   ]
  },
  {
   "cell_type": "code",
   "execution_count": 3,
   "metadata": {},
   "outputs": [
    {
     "name": "stdout",
     "output_type": "stream",
     "text": [
      "{'first_name': 'Mufida', 'last_name': 'Yaro', 'gender': 'Female', 'age': 21, 'marital_status': 'Single', 'skills': ['Python', 'Java', 'C++'], 'country': 'Nigeria', 'city': 'Kano', 'address': 'Taludu G/kaya'}\n"
     ]
    }
   ],
   "source": [
    "#Create a student dictionary and add first_name, last_name, gender, age, marital status, skills, country, city and address as keys for the dictionary\n",
    "student = {}\n",
    "student['first_name'] = 'Mufida'\n",
    "student['last_name'] = 'Yaro'\n",
    "student['gender'] = 'Female'\n",
    "student['age'] = 21\n",
    "student['marital_status'] = 'Single'\n",
    "student['skills'] = ['Python', 'Java', 'C++']\n",
    "student['country'] = 'Nigeria'\n",
    "student['city'] = 'Kano'\n",
    "student['address'] = 'Taludu G/kaya'\n",
    "\n",
    "print(student)"
   ]
  },
  {
   "cell_type": "markdown",
   "metadata": {},
   "source": [
    "### Exercise 4"
   ]
  },
  {
   "cell_type": "code",
   "execution_count": 5,
   "metadata": {},
   "outputs": [
    {
     "name": "stdout",
     "output_type": "stream",
     "text": [
      "9\n"
     ]
    }
   ],
   "source": [
    "#Get the length of the student dictionary\n",
    "print(len(student))"
   ]
  },
  {
   "cell_type": "markdown",
   "metadata": {},
   "source": [
    "### Exercise 5"
   ]
  },
  {
   "cell_type": "code",
   "execution_count": 6,
   "metadata": {},
   "outputs": [
    {
     "name": "stdout",
     "output_type": "stream",
     "text": [
      "Data type: <class 'list'>\n",
      "Value: True\n"
     ]
    }
   ],
   "source": [
    "#Get the value of skills and check the data type, it should be a list\n",
    "skills_value = student['skills']\n",
    "print(f'Data type: {type(skills_value)}')\n",
    "print(f'Value: {isinstance(skills_value, list)}')"
   ]
  },
  {
   "cell_type": "markdown",
   "metadata": {},
   "source": [
    "### Exercise 6"
   ]
  },
  {
   "cell_type": "code",
   "execution_count": 7,
   "metadata": {},
   "outputs": [
    {
     "name": "stdout",
     "output_type": "stream",
     "text": [
      "{'first_name': 'Mufida', 'last_name': 'Yaro', 'gender': 'Female', 'age': 21, 'marital_status': 'Single', 'skills': ['Python', 'Java', 'C++', 'PHP', 'DataBase'], 'country': 'Nigeria', 'city': 'Kano', 'address': 'Taludu G/kaya'}\n"
     ]
    }
   ],
   "source": [
    "#Modify the skills values by adding one or two skills\n",
    "student['skills'].extend(['PHP', 'DataBase'])\n",
    "print(student)"
   ]
  },
  {
   "cell_type": "markdown",
   "metadata": {},
   "source": [
    "### Exercise 7"
   ]
  },
  {
   "cell_type": "code",
   "execution_count": 7,
   "metadata": {},
   "outputs": [
    {
     "name": "stdout",
     "output_type": "stream",
     "text": [
      "dict_keys(['first_name', 'last_name', 'gender', 'age', 'marital_status', 'skills', 'country', 'city', 'address'])\n"
     ]
    }
   ],
   "source": [
    "#Get the dictionary keys as a list\n",
    "keys = student.keys()\n",
    "print(keys)"
   ]
  },
  {
   "cell_type": "markdown",
   "metadata": {},
   "source": [
    "### Exercise 8"
   ]
  },
  {
   "cell_type": "code",
   "execution_count": 8,
   "metadata": {},
   "outputs": [
    {
     "name": "stdout",
     "output_type": "stream",
     "text": [
      "dict_values(['Mufida', 'Yaro', 'Female', 21, 'Single', ['Python', 'Java', 'C++', 'PHP', 'DataBase'], 'Nigeria', 'Kano', 'Taludu G/kaya'])\n"
     ]
    }
   ],
   "source": [
    "#Get the dictionary values as a list\n",
    "values = student.values()\n",
    "print(values) "
   ]
  },
  {
   "cell_type": "markdown",
   "metadata": {},
   "source": [
    "### Exercise 9"
   ]
  },
  {
   "cell_type": "code",
   "execution_count": 9,
   "metadata": {},
   "outputs": [
    {
     "name": "stdout",
     "output_type": "stream",
     "text": [
      "As a list of tuples: [('first_name', 'Mufida'), ('last_name', 'Yaro'), ('gender', 'Female'), ('age', 21), ('marital_status', 'Single'), ('skills', ['Python', 'Java', 'C++', 'PHP', 'DataBase']), ('country', 'Nigeria'), ('city', 'Kano'), ('address', 'Taludu G/kaya')]\n"
     ]
    }
   ],
   "source": [
    "#Change the dictionary to a list of tuples using items() method\n",
    "list_tuple = student.items()\n",
    "print(f\"As a list of tuples: {list(list_tuple)}\")"
   ]
  },
  {
   "cell_type": "markdown",
   "metadata": {},
   "source": [
    "### Exercise 10"
   ]
  },
  {
   "cell_type": "code",
   "execution_count": 10,
   "metadata": {},
   "outputs": [],
   "source": [
    "#Delete one of the items in the dictionary\n",
    "del student['age'] "
   ]
  },
  {
   "cell_type": "markdown",
   "metadata": {},
   "source": [
    "### Exercise 11"
   ]
  },
  {
   "cell_type": "code",
   "execution_count": 11,
   "metadata": {},
   "outputs": [],
   "source": [
    "#Delete one of the dictionaries\n",
    "del dog"
   ]
  }
 ],
 "metadata": {
  "kernelspec": {
   "display_name": "Python 3",
   "language": "python",
   "name": "python3"
  },
  "language_info": {
   "codemirror_mode": {
    "name": "ipython",
    "version": 3
   },
   "file_extension": ".py",
   "mimetype": "text/x-python",
   "name": "python",
   "nbconvert_exporter": "python",
   "pygments_lexer": "ipython3",
   "version": "3.11.3"
  }
 },
 "nbformat": 4,
 "nbformat_minor": 2
}
