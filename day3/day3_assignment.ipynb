{
 "cells": [
  {
   "cell_type": "markdown",
   "metadata": {},
   "source": [
    "# Day3 Assignment"
   ]
  },
  {
   "cell_type": "markdown",
   "metadata": {},
   "source": [
    "## Exercises"
   ]
  },
  {
   "cell_type": "markdown",
   "metadata": {},
   "source": [
    "### Exercise 1"
   ]
  },
  {
   "cell_type": "code",
   "execution_count": 9,
   "metadata": {},
   "outputs": [
    {
     "name": "stdout",
     "output_type": "stream",
     "text": [
      "21\n"
     ]
    }
   ],
   "source": [
    "#Declare your age as integer variable\n",
    "age = 21\n",
    "\n",
    "print(age)"
   ]
  },
  {
   "cell_type": "markdown",
   "metadata": {},
   "source": [
    "### Exercise 2"
   ]
  },
  {
   "cell_type": "code",
   "execution_count": 10,
   "metadata": {},
   "outputs": [
    {
     "name": "stdout",
     "output_type": "stream",
     "text": [
      "150.0\n"
     ]
    }
   ],
   "source": [
    "#Declare your height as a float variable\n",
    "height = 150.0\n",
    "\n",
    "print(height)"
   ]
  },
  {
   "cell_type": "markdown",
   "metadata": {},
   "source": [
    "### Exercise 3"
   ]
  },
  {
   "cell_type": "code",
   "execution_count": 11,
   "metadata": {},
   "outputs": [
    {
     "name": "stdout",
     "output_type": "stream",
     "text": [
      "(2-2j)\n"
     ]
    }
   ],
   "source": [
    "#Declare a variable that store a complex number\n",
    "comp_num = 2-2j\n",
    "\n",
    "print(comp_num)"
   ]
  },
  {
   "cell_type": "markdown",
   "metadata": {},
   "source": [
    "### Exercise 4"
   ]
  },
  {
   "cell_type": "code",
   "execution_count": 12,
   "metadata": {},
   "outputs": [
    {
     "name": "stdout",
     "output_type": "stream",
     "text": [
      "The area of the triangle is: 100.0\n"
     ]
    }
   ],
   "source": [
    "#Write a script that prompts the user to enter base and height of the triangle and calculate an area of this triangle (area = 0.5 x b x h).\n",
    "base = float(input('Enter the base of the triangle'))\n",
    "height = float(input('Enter the height of the triange'))\n",
    "\n",
    "area = 0.5 * base * height\n",
    "\n",
    "print('The area of the triangle is:', area)"
   ]
  },
  {
   "cell_type": "markdown",
   "metadata": {},
   "source": [
    "### Exercise 5"
   ]
  },
  {
   "cell_type": "code",
   "execution_count": 75,
   "metadata": {},
   "outputs": [
    {
     "name": "stdout",
     "output_type": "stream",
     "text": [
      "Perimeter of the Triangle is: 12.0\n"
     ]
    }
   ],
   "source": [
    "#Write a script that prompts the user to enter side a, side b, and side c of the triangle. Calculate the perimeter of the triangle (perimeter = a + b + c).\n",
    "a = float(input(\"Enter side a: \"))\n",
    "b = float(input(\"Enter side b: \"))\n",
    "c = float(input(\"Enter side c: \"))\n",
    "\n",
    "perimeter = a + b + c\n",
    "\n",
    "print(\"Perimeter of the Triangle is:\", perimeter)"
   ]
  },
  {
   "cell_type": "markdown",
   "metadata": {},
   "source": [
    "### Exercise 6"
   ]
  },
  {
   "cell_type": "code",
   "execution_count": 69,
   "metadata": {},
   "outputs": [
    {
     "name": "stdout",
     "output_type": "stream",
     "text": [
      "Area is: 20.0\n",
      "Perimeter is: 18.0\n"
     ]
    }
   ],
   "source": [
    "#Get length and width of a rectangle using prompt. Calculate its area (area = length x width) and perimeter (perimeter = 2 x (length + width))\n",
    "length = float(input(\"Enter length: \"))\n",
    "width = float(input(\"Enter width: \"))\n",
    "\n",
    "area = length * width\n",
    "perimeter = 2 * (length + width)\n",
    "\n",
    "print ('Area is:', area)\n",
    "print('Perimeter is:', perimeter)\n"
   ]
  },
  {
   "cell_type": "markdown",
   "metadata": {},
   "source": [
    "### Exercise 7"
   ]
  },
  {
   "cell_type": "code",
   "execution_count": 15,
   "metadata": {},
   "outputs": [
    {
     "name": "stdout",
     "output_type": "stream",
     "text": [
      "Area 1256.0\n",
      "Circumference 125.60000000000001\n"
     ]
    }
   ],
   "source": [
    "#Get radius of a circle using prompt. Calculate the area (area = pi x r x r) and circumference (c = 2 x pi x r) where pi = 3.14.\n",
    "radius = float(input(\"Enter radius: \"))\n",
    "area = 3.14 * radius * radius\n",
    "circumference = 2 * 3.14 * radius\n",
    "\n",
    "print('Area', area)\n",
    "print('Circumference', circumference)"
   ]
  },
  {
   "cell_type": "markdown",
   "metadata": {},
   "source": [
    "### Exercise 8"
   ]
  },
  {
   "cell_type": "code",
   "execution_count": 16,
   "metadata": {},
   "outputs": [
    {
     "name": "stdout",
     "output_type": "stream",
     "text": [
      "Slope (m): 2\n",
      "Y-intercept (b): -2\n",
      "X-intercept: -1.0\n"
     ]
    }
   ],
   "source": [
    "#Calculate the slope, x-intercept and y-intercept of y = 2x -2\n",
    "eqn = \"y = 2x - 2\"\n",
    "m = 2\n",
    "y_intercept = -2\n",
    "x_intercept = y_intercept / m\n",
    "print(\"Slope (m):\", m)\n",
    "print(\"Y-intercept (b):\", y_intercept)\n",
    "print(\"X-intercept:\", x_intercept)"
   ]
  },
  {
   "cell_type": "markdown",
   "metadata": {},
   "source": [
    "### Exercise 9"
   ]
  },
  {
   "cell_type": "code",
   "execution_count": 17,
   "metadata": {},
   "outputs": [
    {
     "name": "stdout",
     "output_type": "stream",
     "text": [
      "Slope: 2.0\n",
      "Euclidean distance: 8.94427190999916\n"
     ]
    }
   ],
   "source": [
    "#Slope is (m = y2-y1/x2-x1). Find the slope and Euclidean distance between point (2, 2) and point (6,10)\n",
    "point1 = (2, 2)\n",
    "point2 = (6, 10)\n",
    "m = (point2[1] - point1[1]) / (point2[0] - point1[0])\n",
    "distance = ((point2[0] - point1[0])**2 + (point2[1] - point1[1])**2)**0.5\n",
    "\n",
    "print(\"Slope:\", m)\n",
    "print(\"Euclidean distance:\", distance)"
   ]
  },
  {
   "cell_type": "markdown",
   "metadata": {},
   "source": [
    "### Exercise 10"
   ]
  },
  {
   "cell_type": "code",
   "execution_count": 18,
   "metadata": {},
   "outputs": [
    {
     "name": "stdout",
     "output_type": "stream",
     "text": [
      "The slopes are equal.\n"
     ]
    }
   ],
   "source": [
    "#Compare the slopes in tasks 8 and 9.\n",
    "#Slope in task 8\n",
    "m1 = 2\n",
    "#Slope in task 9\n",
    "point1 = (2, 2)\n",
    "point2 = (6, 10)\n",
    "m2 = (point2[1] - point1[1]) / (point2[0] - point1[0])\n",
    "#Comparing slopes\n",
    "if m1 == m2:\n",
    "    print(\"The slopes are equal.\")\n",
    "else:\n",
    "    print(\"The slopes are not eqaul.\")"
   ]
  },
  {
   "cell_type": "markdown",
   "metadata": {},
   "source": [
    "### Exercise 11"
   ]
  },
  {
   "cell_type": "code",
   "execution_count": 19,
   "metadata": {},
   "outputs": [
    {
     "name": "stdout",
     "output_type": "stream",
     "text": [
      "x: -5 y: 4\n",
      "x: -4 y: 1\n",
      "x: -3 y: 0\n",
      "x value where y is 0: -3\n",
      "x: -2 y: 1\n",
      "x: -1 y: 4\n",
      "x: 0 y: 9\n",
      "x: 1 y: 16\n",
      "x: 2 y: 25\n",
      "x: 3 y: 36\n",
      "x: 4 y: 49\n",
      "x: 5 y: 64\n"
     ]
    }
   ],
   "source": [
    "#Calculate the value of y (y = x^2 + 6x + 9). Try to use different x values and figure out at what x value y is going to be 0.\n",
    "def calculate_y(x):\n",
    "  y = x**2 + 6*x + 9\n",
    "  return y\n",
    "\n",
    "x_values = range(-5, 6)\n",
    "\n",
    "for x in x_values:\n",
    "  y = calculate_y(x)\n",
    "  print(\"x:\", x, \"y:\", y)\n",
    "\n",
    "  if y == 0:\n",
    "    print(\"x value where y is 0:\", x)"
   ]
  },
  {
   "cell_type": "markdown",
   "metadata": {},
   "source": [
    "### Exercise 12"
   ]
  },
  {
   "cell_type": "code",
   "execution_count": 26,
   "metadata": {},
   "outputs": [
    {
     "name": "stdout",
     "output_type": "stream",
     "text": [
      "Length of 'python': 6\n",
      "Length of 'dragon': 6\n",
      "False\n"
     ]
    }
   ],
   "source": [
    "#Find the length of 'python' and 'dragon' and make a falsy comparison statement.\n",
    "len_python = len('python')\n",
    "print(\"Length of 'python':\", len_python)\n",
    "\n",
    "len_dragon = len('dragon')\n",
    "print(\"Length of 'dragon':\", len_dragon)\n",
    "\n",
    "print('python' <= 'dragon')"
   ]
  },
  {
   "cell_type": "markdown",
   "metadata": {},
   "source": [
    "### Exercise 13"
   ]
  },
  {
   "cell_type": "code",
   "execution_count": 27,
   "metadata": {},
   "outputs": [
    {
     "name": "stdout",
     "output_type": "stream",
     "text": [
      "True\n"
     ]
    }
   ],
   "source": [
    "#Use and operator to check if 'on' is found in both 'python' and 'dragon'\n",
    "check_on = 'on' in 'python' and 'on' in 'dragon'\n",
    "print(check_on)"
   ]
  },
  {
   "cell_type": "markdown",
   "metadata": {},
   "source": [
    "### Exercise 14"
   ]
  },
  {
   "cell_type": "code",
   "execution_count": 28,
   "metadata": {},
   "outputs": [
    {
     "name": "stdout",
     "output_type": "stream",
     "text": [
      "Jargon is in the sentence.\n"
     ]
    }
   ],
   "source": [
    "#I hope this course is not full of jargon. Use in operator to check if jargon is in the sentence.\n",
    "sentence = \"I hope this course is not full of jargon.\"\n",
    "jargon = \"jargon\"\n",
    "\n",
    "if jargon in sentence:\n",
    "  print(\"Jargon is in the sentence.\")\n",
    "else:\n",
    "  print(\"Jargon is not in the sentence.\")"
   ]
  },
  {
   "cell_type": "markdown",
   "metadata": {},
   "source": [
    "### Exercise 15"
   ]
  },
  {
   "cell_type": "code",
   "execution_count": 29,
   "metadata": {},
   "outputs": [
    {
     "name": "stdout",
     "output_type": "stream",
     "text": [
      "False\n"
     ]
    }
   ],
   "source": [
    "#There is no 'on' in both dragon and python\n",
    "check_on = 'on' in 'python' and 'on' in 'dragon'\n",
    "\n",
    "print(not check_on)"
   ]
  },
  {
   "cell_type": "markdown",
   "metadata": {},
   "source": [
    "### Exercise 16"
   ]
  },
  {
   "cell_type": "code",
   "execution_count": 30,
   "metadata": {},
   "outputs": [
    {
     "name": "stdout",
     "output_type": "stream",
     "text": [
      "Length of 'python': 6\n",
      "Length of 'python' as float: 6.0\n",
      "Length of 'python' as string: 6.0\n"
     ]
    }
   ],
   "source": [
    "#Find the length of the text python and convert the value to float and convert it to string\n",
    "len_python = len('python')\n",
    "to_float = float(len_python)\n",
    "to_string = str(to_float)\n",
    "\n",
    "print(\"Length of 'python':\", len_python)\n",
    "print(\"Length of 'python' as float:\", to_float)\n",
    "print(\"Length of 'python' as string:\", to_string)"
   ]
  },
  {
   "cell_type": "markdown",
   "metadata": {},
   "source": [
    "### Exercise 17"
   ]
  },
  {
   "cell_type": "code",
   "execution_count": 35,
   "metadata": {},
   "outputs": [
    {
     "name": "stdout",
     "output_type": "stream",
     "text": [
      "5 is an odd number.\n"
     ]
    }
   ],
   "source": [
    "#Even numbers are divisible by 2 and the remainder is zero. How do you check if a number is even or not using python?\n",
    "num = int(input(\"Enter a number: \"))\n",
    "\n",
    "if num % 2 == 0:\n",
    "  print(num, \"is an even number.\")\n",
    "else:\n",
    "  print(num, \"is an odd number.\")"
   ]
  },
  {
   "cell_type": "markdown",
   "metadata": {},
   "source": [
    "### Exercise 18"
   ]
  },
  {
   "cell_type": "code",
   "execution_count": 36,
   "metadata": {},
   "outputs": [
    {
     "name": "stdout",
     "output_type": "stream",
     "text": [
      "The floor division of 7 by 3 is equal to the int converted value of 2.7.\n"
     ]
    }
   ],
   "source": [
    "#Check if the floor division of 7 by 3 is equal to the int converted value of 2.7.\n",
    "floor_division = 7 // 3\n",
    "int_convert = int(2.7)\n",
    "\n",
    "if floor_division == int_convert:\n",
    "  print(\"The floor division of 7 by 3 is equal to the int converted value of 2.7.\")\n",
    "else:\n",
    "  print(\"The floor division of 7 by 3 is not equal to the int converted value of 2.7.\")"
   ]
  },
  {
   "cell_type": "markdown",
   "metadata": {},
   "source": [
    "### Exercise 19"
   ]
  },
  {
   "cell_type": "code",
   "execution_count": 37,
   "metadata": {},
   "outputs": [
    {
     "name": "stdout",
     "output_type": "stream",
     "text": [
      "The type of '10' is not equal to the type of 10.\n"
     ]
    }
   ],
   "source": [
    "#Check if type of '10' is equal to type of 10\n",
    "str_10 = type('10')\n",
    "int_10 = type(10)\n",
    "\n",
    "if str_10 == int_10:\n",
    "    print(\"The type of '10' is equal to the type of 10.\")\n",
    "else:\n",
    "    print(\"The type of '10' is not equal to the type of 10.\")"
   ]
  },
  {
   "cell_type": "markdown",
   "metadata": {},
   "source": [
    "### Exercise 20"
   ]
  },
  {
   "cell_type": "code",
   "execution_count": 44,
   "metadata": {},
   "outputs": [
    {
     "name": "stdout",
     "output_type": "stream",
     "text": [
      "int('9.8') is not equal to 10.\n"
     ]
    }
   ],
   "source": [
    "#Check if int('9.8') is equal to 10\n",
    "a = ('9.8')\n",
    "b = 10\n",
    "if a == b:\n",
    "    print(\"int('9.8') is equal to 10.\")\n",
    "else:\n",
    "    print(\"int('9.8') is not equal to 10.\")"
   ]
  },
  {
   "cell_type": "markdown",
   "metadata": {},
   "source": [
    "### Exercise 21"
   ]
  },
  {
   "cell_type": "code",
   "execution_count": 78,
   "metadata": {},
   "outputs": [
    {
     "name": "stdout",
     "output_type": "stream",
     "text": [
      "Your weekly earning is: 1120.0\n"
     ]
    }
   ],
   "source": [
    "#Write a script that prompts the user to enter hours and rate per hour. Calculate pay of the person?\n",
    "hours = float(input(\"Enter hours worked: \"))\n",
    "rate_per_hour = float(input(\"Enter rate per hour: \"))\n",
    "\n",
    "pay = hours * rate_per_hour\n",
    "print(\"Your weekly earning is:\", pay)"
   ]
  },
  {
   "cell_type": "markdown",
   "metadata": {},
   "source": [
    "### Exercise 22"
   ]
  },
  {
   "cell_type": "code",
   "execution_count": 66,
   "metadata": {},
   "outputs": [
    {
     "name": "stdout",
     "output_type": "stream",
     "text": [
      "You have lived for 3153600000.0 seconds\n"
     ]
    }
   ],
   "source": [
    "#Write a script that prompts the user to enter number of years. Calculate the number of seconds a person can live. Assume a person can live hundred years\n",
    "years = float(input(\"Enter number of years you have lived: \"))\n",
    "seconds_in_a_year = 365 * 24 * 60 * 60\n",
    "total_seconds = years * seconds_in_a_year\n",
    "\n",
    "print(\"You have lived for\", total_seconds, \"seconds\")"
   ]
  },
  {
   "cell_type": "markdown",
   "metadata": {},
   "source": [
    "### Exercise 23"
   ]
  },
  {
   "cell_type": "code",
   "execution_count": 77,
   "metadata": {},
   "outputs": [
    {
     "name": "stdout",
     "output_type": "stream",
     "text": [
      " 1  1  1  1  1 \n",
      " 2  1  2  4  8 \n",
      " 3  1  3  9  27 \n",
      " 4  1  4  16  64 \n",
      " 5  1  5  25  125 \n"
     ]
    }
   ],
   "source": [
    "#Write a Python script that displays the following table\n",
    "print(\" 1  1  1  1  1 \")\n",
    "print(\" 2  1  2  4  8 \")\n",
    "print(\" 3  1  3  9  27 \")\n",
    "print(\" 4  1  4  16  64 \")\n",
    "print(\" 5  1  5  25  125 \")"
   ]
  }
 ],
 "metadata": {
  "kernelspec": {
   "display_name": "Python 3",
   "language": "python",
   "name": "python3"
  },
  "language_info": {
   "codemirror_mode": {
    "name": "ipython",
    "version": 3
   },
   "file_extension": ".py",
   "mimetype": "text/x-python",
   "name": "python",
   "nbconvert_exporter": "python",
   "pygments_lexer": "ipython3",
   "version": "3.11.3"
  }
 },
 "nbformat": 4,
 "nbformat_minor": 2
}
