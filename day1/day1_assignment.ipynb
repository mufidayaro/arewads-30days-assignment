{
 "cells": [
  {
   "cell_type": "markdown",
   "metadata": {},
   "source": [
    "# Day1 Assignment"
   ]
  },
  {
   "cell_type": "markdown",
   "metadata": {},
   "source": [
    "## Exercise: Level 1"
   ]
  },
  {
   "cell_type": "markdown",
   "metadata": {},
   "source": [
    "### Exercise 1"
   ]
  },
  {
   "cell_type": "code",
   "execution_count": 3,
   "metadata": {},
   "outputs": [
    {
     "name": "stdout",
     "output_type": "stream",
     "text": [
      "Python 3.11.3\n"
     ]
    }
   ],
   "source": [
    "#Check the python version you are using\n",
    "!python --version"
   ]
  },
  {
   "cell_type": "markdown",
   "metadata": {},
   "source": [
    "### Exercise 2"
   ]
  },
  {
   "cell_type": "code",
   "execution_count": 4,
   "metadata": {},
   "outputs": [
    {
     "name": "stdout",
     "output_type": "stream",
     "text": [
      "7\n",
      "-1\n",
      "12\n",
      "3\n",
      "0.75\n",
      "81\n",
      "0\n"
     ]
    }
   ],
   "source": [
    "\"\"\" Open the python interactive shell and do the following operations. The operands are 3 and 4 \n",
    "addition(+)\n",
    "subtraction(-)\n",
    "multiplication(*)\n",
    "modulus(%)\n",
    "division(/)\n",
    "exponential(**)\n",
    "floor division operator(//)\"\"\"\n",
    "a = 3\n",
    "b = 4\n",
    "print( a + b)\n",
    "print( a - b)\n",
    "print( a * b)\n",
    "print( a % b)\n",
    "print( a / b)\n",
    "print( a ** b)\n",
    "print( a // b)\n"
   ]
  },
  {
   "cell_type": "markdown",
   "metadata": {},
   "source": [
    "### Exercise 3"
   ]
  },
  {
   "cell_type": "code",
   "execution_count": 6,
   "metadata": {},
   "outputs": [
    {
     "name": "stdout",
     "output_type": "stream",
     "text": [
      "My name is Mufida\n",
      "My family name is Garba Yaro\n",
      "The name of my country is Nigeria\n",
      "I am enjoying 30 days of python\n"
     ]
    }
   ],
   "source": [
    "\"\"\" Write strings on the python interactive shell. The strings are the following:\n",
    "Your name\n",
    "Your family name\n",
    "Your country\n",
    "I am enjoying 30 days of python\"\"\"\n",
    "a = \"My name is Mufida\"\n",
    "b = \"My family name is Garba Yaro\"\n",
    "c = \"The name of my country is Nigeria\"\n",
    "d = \"I am enjoying 30 days of python\"\n",
    "print(a)\n",
    "print(b)\n",
    "print(c)\n",
    "print(d)\n",
    "\n"
   ]
  },
  {
   "cell_type": "markdown",
   "metadata": {},
   "source": [
    "### Exercise 4"
   ]
  },
  {
   "cell_type": "code",
   "execution_count": 8,
   "metadata": {},
   "outputs": [
    {
     "name": "stdout",
     "output_type": "stream",
     "text": [
      "<class 'int'>\n",
      "<class 'float'>\n",
      "<class 'float'>\n",
      "<class 'complex'>\n",
      "<class 'list'>\n",
      "<class 'str'>\n",
      "<class 'str'>\n",
      "<class 'str'>\n"
     ]
    }
   ],
   "source": [
    "\"\"\" Check the data types of the following data:\n",
    "10\n",
    "9.8\n",
    "3.14\n",
    "4 - 4j\n",
    "['Asabeneh', 'Python', 'Finland']\n",
    "Your name\n",
    "Your family name\n",
    "Your country\"\"\"\n",
    "a = [10,9.8,3.14,4-4j,['Asabeneh', 'Python', 'Finland'],'Mufida','garba yaro','Nigeria']\n",
    "for i in a:\n",
    "    print(type(i))"
   ]
  },
  {
   "cell_type": "markdown",
   "metadata": {},
   "source": [
    "## Exercise: Level 2"
   ]
  },
  {
   "cell_type": "markdown",
   "metadata": {},
   "source": [
    "Create a folder named day_1 inside 30DaysOfPython folder. Inside day_1 folder, create a python file helloworld.py and repeat questions 1, 2, 3 and 4. Remember to use print() when you are working on a python file. Navigate to the directory where you have saved your file, and run it."
   ]
  },
  {
   "cell_type": "markdown",
   "metadata": {},
   "source": [
    "## Exercise: Level 3"
   ]
  },
  {
   "cell_type": "markdown",
   "metadata": {},
   "source": [
    "1.Write an example for different Python data types such as Number(Integer, Float, Complex), String, Boolean, List, Tuple, Set and Dictionary.\n"
   ]
  },
  {
   "cell_type": "code",
   "execution_count": 2,
   "metadata": {},
   "outputs": [
    {
     "name": "stdout",
     "output_type": "stream",
     "text": [
      "10\n",
      "3.14\n",
      "(1+2j)\n",
      "Mufida\n",
      "True\n",
      "[1, 2, 3, 4, 5]\n",
      "('carrot', 'cucumber', 'lettuce')\n",
      "{'guava', 'grape', 'mango'}\n",
      "{'name': 'Mufida', 'age': 21, 'country': 'Nigeria'}\n"
     ]
    }
   ],
   "source": [
    "# Integer data type\n",
    "a = 10  \n",
    "print(a)\n",
    "# Float data type\n",
    "b = 3.14\n",
    "print(b)\n",
    "# Complex data type\n",
    "c = 1 + 2j\n",
    "print(c)\n",
    "# String data type\n",
    "name = \"Mufida\"  \n",
    "print(name)\n",
    "# Boolean data type\n",
    "is_agirl = True  \n",
    "print(is_agirl)\n",
    "# List data type\n",
    "numbers = [1, 2, 3, 4, 5]  \n",
    "print(numbers)\n",
    "# Tuple data type\n",
    "vegetables = (\"carrot\", \"cucumber\", \"lettuce\")  \n",
    "print(vegetables)\n",
    "# Set data type\n",
    "fruits = {\"mango\", \"grape\", \"guava\"}  \n",
    "print(fruits)\n",
    "# Dictionary data type\n",
    "person = {'name': 'Mufida', 'age': 21, 'country': 'Nigeria'}  \n",
    "print(person)\n"
   ]
  },
  {
   "cell_type": "markdown",
   "metadata": {},
   "source": [
    "2.Find an Euclidian distance between (2, 3) and (10, 8)"
   ]
  },
  {
   "cell_type": "code",
   "execution_count": 3,
   "metadata": {},
   "outputs": [
    {
     "name": "stdout",
     "output_type": "stream",
     "text": [
      "9.433981132056603\n"
     ]
    }
   ],
   "source": [
    "import math\n",
    "\n",
    "def euclidean_distance(a1, b1, a2, b2):\n",
    "  distance = math.sqrt(((a2 - a1) ** 2) + ((b2 - b1) ** 2))\n",
    "  return distance\n",
    "\n",
    "a1 = 2\n",
    "b1 = 3\n",
    "a2 = 10\n",
    "b2 = 8\n",
    "\n",
    "distance = euclidean_distance(a1, b1, a2, b2)\n",
    "print(distance)"
   ]
  }
 ],
 "metadata": {
  "kernelspec": {
   "display_name": "Python 3",
   "language": "python",
   "name": "python3"
  },
  "language_info": {
   "codemirror_mode": {
    "name": "ipython",
    "version": 3
   },
   "file_extension": ".py",
   "mimetype": "text/x-python",
   "name": "python",
   "nbconvert_exporter": "python",
   "pygments_lexer": "ipython3",
   "version": "3.11.3"
  }
 },
 "nbformat": 4,
 "nbformat_minor": 2
}
