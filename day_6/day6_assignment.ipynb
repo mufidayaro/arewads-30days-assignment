{
 "cells": [
  {
   "cell_type": "markdown",
   "metadata": {},
   "source": [
    "# Day6 Assignment"
   ]
  },
  {
   "cell_type": "markdown",
   "metadata": {},
   "source": [
    "## Exercise: Level 1"
   ]
  },
  {
   "cell_type": "markdown",
   "metadata": {},
   "source": [
    "### Exercise 1"
   ]
  },
  {
   "cell_type": "code",
   "execution_count": 23,
   "metadata": {},
   "outputs": [],
   "source": [
    "#Create an empty tuple\n",
    "empty_tuple = ()"
   ]
  },
  {
   "cell_type": "markdown",
   "metadata": {},
   "source": [
    "### Exercise 2"
   ]
  },
  {
   "cell_type": "code",
   "execution_count": 24,
   "metadata": {},
   "outputs": [
    {
     "name": "stdout",
     "output_type": "stream",
     "text": [
      "('Maryam', 'Zainab', 'Kamal', 'Muhammad', 'Alamin')\n"
     ]
    }
   ],
   "source": [
    "#Create a tuple containing names of your sisters and your brothers\n",
    "siblings =('Maryam','Zainab','Kamal','Muhammad','Alamin')\n",
    "print(siblings)"
   ]
  },
  {
   "cell_type": "markdown",
   "metadata": {},
   "source": [
    "### Exercise 3"
   ]
  },
  {
   "cell_type": "code",
   "execution_count": 25,
   "metadata": {},
   "outputs": [
    {
     "name": "stdout",
     "output_type": "stream",
     "text": [
      "('Maryam', 'Zainab', 'Muhammad', 'Kamal', 'Alamin')\n"
     ]
    }
   ],
   "source": [
    "#Join brothers and sisters tuples and assign it to siblings\n",
    "sisters = ('Maryam','Zainab')\n",
    "brothers = ('Muhammad','Kamal','Alamin')\n",
    "siblings = sisters + brothers\n",
    "print(siblings)"
   ]
  },
  {
   "cell_type": "markdown",
   "metadata": {},
   "source": [
    "### Exercise 4"
   ]
  },
  {
   "cell_type": "code",
   "execution_count": 26,
   "metadata": {},
   "outputs": [
    {
     "name": "stdout",
     "output_type": "stream",
     "text": [
      "I have 5 siblings.\n"
     ]
    }
   ],
   "source": [
    "#How many siblings do you have?\n",
    "num_siblings = len(siblings)\n",
    "print('I have', num_siblings, 'siblings.')"
   ]
  },
  {
   "cell_type": "markdown",
   "metadata": {},
   "source": [
    "### Exercise 5"
   ]
  },
  {
   "cell_type": "code",
   "execution_count": 27,
   "metadata": {},
   "outputs": [
    {
     "name": "stdout",
     "output_type": "stream",
     "text": [
      "('Maryam', 'Zainab', 'Kamal', 'Muhammad', 'Alamin', 'Garba', 'Ummi')\n"
     ]
    }
   ],
   "source": [
    "#Modify the siblings tuple and add the name of your father and mother and assign it to family_members\n",
    "siblings =('Maryam','Zainab','Kamal','Muhammad','Alamin')\n",
    "father = 'Garba'\n",
    "mother = 'Ummi'\n",
    "family_members = siblings + (father, mother)\n",
    "print(family_members)"
   ]
  },
  {
   "cell_type": "markdown",
   "metadata": {},
   "source": [
    "## Exercise: Level 2"
   ]
  },
  {
   "cell_type": "markdown",
   "metadata": {},
   "source": [
    "### Exercise 1"
   ]
  },
  {
   "cell_type": "code",
   "execution_count": 28,
   "metadata": {},
   "outputs": [
    {
     "name": "stdout",
     "output_type": "stream",
     "text": [
      "('Garba', 'Ummi')\n",
      "('Maryam', 'Zainab')\n",
      "('Kamal', 'Muhammad', 'Alamin')\n"
     ]
    }
   ],
   "source": [
    "#Unpack siblings and parents from family_members\n",
    "family_members = ('Maryam','Zainab','Kamal','Muhammad','Alamin','Garba','Ummi')\n",
    "sisters = family_members[:2]\n",
    "brothers = family_members[2:5]\n",
    "parents = family_members[5:]\n",
    "print(parents)\n",
    "print(sisters)\n",
    "print(brothers)"
   ]
  },
  {
   "cell_type": "markdown",
   "metadata": {},
   "source": [
    "### Exercise 2"
   ]
  },
  {
   "cell_type": "code",
   "execution_count": 30,
   "metadata": {},
   "outputs": [
    {
     "name": "stdout",
     "output_type": "stream",
     "text": [
      "('Mango', 'Banana', 'Grape', 'Carrot', 'Spinach', 'Cabbage', 'Meat', 'Fish', 'Egg')\n"
     ]
    }
   ],
   "source": [
    "#Create fruits, vegetables and animal products tuples. Join the three tuples and assign it to a variable called food_stuff_tp.\n",
    "fruits = ('Mango', 'Banana', 'Grape')\n",
    "vegetables = ('Carrot', 'Spinach', 'Cabbage')\n",
    "animal_products = ('Meat', 'Fish', 'Egg')\n",
    "food_stuff_tp = fruits + vegetables + animal_products\n",
    "print(food_stuff_tp)"
   ]
  },
  {
   "cell_type": "markdown",
   "metadata": {},
   "source": [
    "### Exercise 3"
   ]
  },
  {
   "cell_type": "code",
   "execution_count": 31,
   "metadata": {},
   "outputs": [
    {
     "name": "stdout",
     "output_type": "stream",
     "text": [
      "['Mango', 'Banana', 'Grape', 'Carrot', 'Spinach', 'Cabbage', 'Meat', 'Fish', 'Egg']\n"
     ]
    }
   ],
   "source": [
    "#Change the about food_stuff_tp tuple to a food_stuff_lt list\n",
    "food_stuff_lt = list(food_stuff_tp)\n",
    "print(food_stuff_lt)"
   ]
  },
  {
   "cell_type": "markdown",
   "metadata": {},
   "source": [
    "### Exercise 4"
   ]
  },
  {
   "cell_type": "code",
   "execution_count": 32,
   "metadata": {},
   "outputs": [
    {
     "name": "stdout",
     "output_type": "stream",
     "text": [
      "['Spinach']\n"
     ]
    }
   ],
   "source": [
    "#Slice out the middle item or items from the food_stuff_tp tuple or food_stuff_lt list.\n",
    "food_stuff_lt = ['Mango', 'Banana', 'Grape', 'Carrot', 'Spinach', 'Cabbage', 'Meat', 'Fish', 'Eggs']\n",
    "middle = len(food_stuff_lt) // 2\n",
    "middle_item = food_stuff_lt[middle:middle+1]\n",
    "print(middle_item)"
   ]
  },
  {
   "cell_type": "markdown",
   "metadata": {},
   "source": [
    "### Exercise 5"
   ]
  },
  {
   "cell_type": "code",
   "execution_count": 33,
   "metadata": {},
   "outputs": [
    {
     "name": "stdout",
     "output_type": "stream",
     "text": [
      "['Mango', 'Banana', 'Grape', 'Meat', 'Fish', 'Eggs']\n"
     ]
    }
   ],
   "source": [
    "#Slice out the first three items and the last three items from food_stuff_lt list\n",
    "sliced_lt = food_stuff_lt[:3] + food_stuff_lt[-3:]\n",
    "print(sliced_lt)"
   ]
  },
  {
   "cell_type": "markdown",
   "metadata": {},
   "source": [
    "### Exercise 6"
   ]
  },
  {
   "cell_type": "code",
   "execution_count": 39,
   "metadata": {},
   "outputs": [],
   "source": [
    "#Delete the food_stuff_tp tuple completely\n",
    "food_stuff_tp = ('Mango', 'Banana', 'Grape', 'Carrot', 'Spinach', 'Cabbage', 'Meat', 'Fish', 'Egg')\n",
    "del food_stuff_tp"
   ]
  },
  {
   "cell_type": "markdown",
   "metadata": {},
   "source": [
    "### Exercise 7"
   ]
  },
  {
   "cell_type": "code",
   "execution_count": 41,
   "metadata": {},
   "outputs": [
    {
     "name": "stdout",
     "output_type": "stream",
     "text": [
      "('Denmark', 'Finland', 'Iceland', 'Norway', 'Sweden')\n"
     ]
    }
   ],
   "source": [
    "#Check if an item exists in tuple:\n",
    "nordic_countries = ('Denmark', 'Finland','Iceland', 'Norway', 'Sweden')\n",
    "print(nordic_countries)"
   ]
  },
  {
   "cell_type": "code",
   "execution_count": 43,
   "metadata": {},
   "outputs": [
    {
     "data": {
      "text/plain": [
       "False"
      ]
     },
     "execution_count": 43,
     "metadata": {},
     "output_type": "execute_result"
    }
   ],
   "source": [
    "#Check if 'Estonia' is a nordic country\n",
    "'Estonia' in nordic_countries"
   ]
  },
  {
   "cell_type": "code",
   "execution_count": 44,
   "metadata": {},
   "outputs": [
    {
     "data": {
      "text/plain": [
       "True"
      ]
     },
     "execution_count": 44,
     "metadata": {},
     "output_type": "execute_result"
    }
   ],
   "source": [
    "#Check if 'Iceland' is a nordic country\n",
    "'Iceland' in nordic_countries"
   ]
  }
 ],
 "metadata": {
  "kernelspec": {
   "display_name": "Python 3",
   "language": "python",
   "name": "python3"
  },
  "language_info": {
   "codemirror_mode": {
    "name": "ipython",
    "version": 3
   },
   "file_extension": ".py",
   "mimetype": "text/x-python",
   "name": "python",
   "nbconvert_exporter": "python",
   "pygments_lexer": "ipython3",
   "version": "3.11.3"
  }
 },
 "nbformat": 4,
 "nbformat_minor": 2
}
