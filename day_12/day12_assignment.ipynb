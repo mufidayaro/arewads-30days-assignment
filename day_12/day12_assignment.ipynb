{
 "cells": [
  {
   "cell_type": "markdown",
   "metadata": {},
   "source": [
    "# Day12 Assignment"
   ]
  },
  {
   "cell_type": "markdown",
   "metadata": {},
   "source": [
    "## Exercises: Level 1"
   ]
  },
  {
   "cell_type": "markdown",
   "metadata": {},
   "source": [
    "### Exercise 1"
   ]
  },
  {
   "cell_type": "code",
   "execution_count": 3,
   "metadata": {},
   "outputs": [
    {
     "name": "stdout",
     "output_type": "stream",
     "text": [
      "Random user ID: 4l2u3z\n"
     ]
    }
   ],
   "source": [
    "#Writ a function which generates a six digit/character random_user_id\n",
    "import random\n",
    "import string\n",
    "\n",
    "def generate_random_user_id():\n",
    "    characters = string.ascii_lowercase + string.digits\n",
    "    random_user_id = ''.join(random.choice(characters)\n",
    "for i in range(6))\n",
    "    return random_user_id\n",
    "random_user_id = generate_random_user_id()\n",
    "print(f\"Random user ID: {random_user_id}\")"
   ]
  },
  {
   "cell_type": "markdown",
   "metadata": {},
   "source": [
    "### Exercise 2"
   ]
  },
  {
   "cell_type": "code",
   "execution_count": 41,
   "metadata": {},
   "outputs": [
    {
     "name": "stdout",
     "output_type": "stream",
     "text": [
      "Generated User IDs: ['LmWod', 'zEw5W', 'ZBYDB', 'cFgJZ', '7N4kp']\n"
     ]
    }
   ],
   "source": [
    "#Modify the previous task. Declare a function named user_id_gen_by_user. It doesn’t take any parameters but it takes two inputs using input(). One of the inputs is the number of characters and the second input is the number of IDs which are supposed to be generated.\n",
    "import random\n",
    "import string\n",
    "\n",
    "def user_id_gen_by_user():\n",
    "    char_count = int(input(\"Enter the number of characters for each ID: \"))\n",
    "    id_count = int(input(\"Enter the number of IDs to be generated: \"))\n",
    "\n",
    "    user_ids = []\n",
    "    for i in range(id_count):\n",
    "        user_id = ''.join(random.choices(string.ascii_letters + string.digits, k=char_count))\n",
    "        user_ids.append(user_id)\n",
    "    return user_ids\n",
    "\n",
    "generated_ids = user_id_gen_by_user()\n",
    "print(\"Generated User IDs:\", generated_ids)"
   ]
  },
  {
   "cell_type": "markdown",
   "metadata": {},
   "source": [
    "### Exrercise 3"
   ]
  },
  {
   "cell_type": "code",
   "execution_count": 24,
   "metadata": {},
   "outputs": [
    {
     "name": "stdout",
     "output_type": "stream",
     "text": [
      "rgb: (121, 39, 81)\n"
     ]
    }
   ],
   "source": [
    "#Write a function named rgb_color_gen. It will generate rgb colors (3 values ranging from 0 to 255 each).\n",
    "import random\n",
    "\n",
    "def rgb_color_gen():\n",
    "    red = random.randint(0, 255)\n",
    "    green = random.randint(0, 255)\n",
    "    blue = random.randint(0, 255)\n",
    "    return (red, green, blue)\n",
    "random_color = rgb_color_gen()\n",
    "print(f\"rgb: {random_color}\")"
   ]
  },
  {
   "cell_type": "markdown",
   "metadata": {},
   "source": [
    "## Exercises: Level 2"
   ]
  },
  {
   "cell_type": "markdown",
   "metadata": {},
   "source": [
    "### Exercise 1"
   ]
  },
  {
   "cell_type": "code",
   "execution_count": 25,
   "metadata": {},
   "outputs": [
    {
     "name": "stdout",
     "output_type": "stream",
     "text": [
      "Generated 5 random hexadecimal colors:\n",
      "\t- #d9487a\n",
      "\t- #dc7345\n",
      "\t- #285e52\n",
      "\t- #b21079\n",
      "\t- #b8e40f\n"
     ]
    }
   ],
   "source": [
    "#Write a function list_of_hexa_colors which returns any number of hexadecimal colors in an array (six hexadecimal numbers written after #. Hexadecimal numeral system is made out of 16 symbols, 0-9 and first 6 letters of the alphabet, a-f. Check the task 6 for output examples).\n",
    "import random\n",
    "\n",
    "def list_of_hexa_colors(num_colors):\n",
    "    colors = []\n",
    "    for i in range(num_colors):\n",
    "        red = random.randint(0, 255)\n",
    "        green = random.randint(0, 255)\n",
    "        blue = random.randint(0, 255)\n",
    "        hex_color = f\"#{red:02x}{green:02x}{blue:02x}\"\n",
    "        colors.append(hex_color)\n",
    "    return colors\n",
    "colors = list_of_hexa_colors(5)\n",
    "print(f\"Generated 5 random hexadecimal colors:\")\n",
    "for color in colors:\n",
    "    print(f\"\\t- {color}\")"
   ]
  },
  {
   "cell_type": "markdown",
   "metadata": {},
   "source": [
    "### Exercise 2"
   ]
  },
  {
   "cell_type": "code",
   "execution_count": 28,
   "metadata": {},
   "outputs": [
    {
     "name": "stdout",
     "output_type": "stream",
     "text": [
      "Generated 5 random RGB colors:\n",
      "\t- [40, 119, 164, 211]\n",
      "\t- [98, 204, 154, 147]\n",
      "\t- [129, 76, 168, 114]\n",
      "\t- [237, 231, 206, 152]\n",
      "\t- [148, 0, 172, 209]\n"
     ]
    }
   ],
   "source": [
    "#Write a function list_of_rgb_colors which returns any number of RGB colors in an array.\n",
    "import random\n",
    "\n",
    "def list_of_rgb_colors(num_colors):\n",
    "    colors = []\n",
    "    for i in range(num_colors):\n",
    "        red = random.randint(0, 255)\n",
    "        green = random.randint(0, 255)\n",
    "        blue = random.randint(0, 255)\n",
    "        colors.append([red, green, blue])\n",
    "    return colors\n",
    "colors = list_of_rgb_colors(5)\n",
    "print(f\"Generated 5 random RGB colors:\")\n",
    "for color in colors:\n",
    "    print(f\"\\t- {color}\")"
   ]
  },
  {
   "cell_type": "markdown",
   "metadata": {},
   "source": [
    "### Exercise 3"
   ]
  },
  {
   "cell_type": "code",
   "execution_count": 31,
   "metadata": {},
   "outputs": [
    {
     "name": "stdout",
     "output_type": "stream",
     "text": [
      "Generated 2 random hexadecimal colors:\n",
      "\t- #e2c41e\n",
      "\t- #dc1ad1\n",
      "Generated 2 random RGB colors:\n",
      "\t- (58, 181, 63)\n",
      "\t- (141, 88, 170)\n"
     ]
    }
   ],
   "source": [
    "#Write a function generate_colors which can generate any number of hexa or rgb colors.\n",
    "import random\n",
    "\n",
    "def generate_colors(num_colors, color_format=\"hexa\"):\n",
    "    colors = []\n",
    "    for _ in range(num_colors):\n",
    "        if color_format == \"hexa\":\n",
    "            red = random.randint(0, 255)\n",
    "            green = random.randint(0, 255)\n",
    "            blue = random.randint(0, 255)\n",
    "            hex_color = f\"#{red:02x}{green:02x}{blue:02x}\"\n",
    "            colors.append(hex_color)\n",
    "        elif color_format == \"rgb\":\n",
    "            red = random.randint(0, 255)\n",
    "            green = random.randint(0, 255)\n",
    "            blue = random.randint(0, 255)\n",
    "            colors.append((red, green, blue))\n",
    "        else:\n",
    "            raise ValueError(f\"Invalid color format: {color_format}\")\n",
    "    return colors\n",
    "\n",
    "colors = generate_colors(2, \"hexa\")\n",
    "print(f\"Generated 2 random hexadecimal colors:\")\n",
    "for color in colors:\n",
    "    print(f\"\\t- {color}\")\n",
    "\n",
    "colors = generate_colors(2, \"rgb\")\n",
    "print(f\"Generated 2 random RGB colors:\")\n",
    "for color in colors:\n",
    "    print(f\"\\t- {color}\")"
   ]
  },
  {
   "cell_type": "markdown",
   "metadata": {},
   "source": [
    "## Exercises: Level 3"
   ]
  },
  {
   "cell_type": "markdown",
   "metadata": {},
   "source": [
    "### Exercise 1"
   ]
  },
  {
   "cell_type": "code",
   "execution_count": 32,
   "metadata": {},
   "outputs": [
    {
     "name": "stdout",
     "output_type": "stream",
     "text": [
      "Original data: [1, 2, 3, 4, 5]\n",
      "Shuffled data: [2, 4, 5, 1, 3]\n"
     ]
    }
   ],
   "source": [
    "#Call your function shuffle_list, it takes a list as a parameter and it returns a shuffled list\n",
    "import random\n",
    "\n",
    "def shuffle_list(data):\n",
    "    shuffled_data = data[:]\n",
    "    for i in range(len(shuffled_data) - 1, 0, -1):\n",
    "        j = random.randint(0, i)\n",
    "        shuffled_data[i], shuffled_data[j] = shuffled_data[j], shuffled_data[i]\n",
    "    return shuffled_data\n",
    "data = [1, 2, 3, 4, 5]\n",
    "shuffled_data = shuffle_list(data)\n",
    "\n",
    "print(f\"Original data: {data}\")\n",
    "print(f\"Shuffled data: {shuffled_data}\")"
   ]
  },
  {
   "cell_type": "markdown",
   "metadata": {},
   "source": [
    "### Exercise 2"
   ]
  },
  {
   "cell_type": "code",
   "execution_count": 39,
   "metadata": {},
   "outputs": [
    {
     "name": "stdout",
     "output_type": "stream",
     "text": [
      "Generated Random Numbers: [0, 8, 4, 6, 9, 7, 2]\n"
     ]
    }
   ],
   "source": [
    "#Write a function which returns an array of seven random numbers in a range of 0-9. All the numbers must be unique.\n",
    "import random\n",
    "\n",
    "def generate_unique_random_numbers():\n",
    "    unique_numbers = random.sample(range(10), 7)\n",
    "    return unique_numbers\n",
    "\n",
    "random_numbers = generate_unique_random_numbers()\n",
    "print(\"Generated Random Numbers:\", random_numbers)"
   ]
  }
 ],
 "metadata": {
  "kernelspec": {
   "display_name": "Python 3",
   "language": "python",
   "name": "python3"
  },
  "language_info": {
   "codemirror_mode": {
    "name": "ipython",
    "version": 3
   },
   "file_extension": ".py",
   "mimetype": "text/x-python",
   "name": "python",
   "nbconvert_exporter": "python",
   "pygments_lexer": "ipython3",
   "version": "3.11.3"
  }
 },
 "nbformat": 4,
 "nbformat_minor": 2
}
