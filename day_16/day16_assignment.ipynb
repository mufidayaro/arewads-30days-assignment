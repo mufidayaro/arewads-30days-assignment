{
 "cells": [
  {
   "cell_type": "markdown",
   "metadata": {},
   "source": [
    "# Day16 Assignment"
   ]
  },
  {
   "cell_type": "markdown",
   "metadata": {},
   "source": [
    "## Exercises: Day16"
   ]
  },
  {
   "cell_type": "markdown",
   "metadata": {},
   "source": [
    "### Exercise 1"
   ]
  },
  {
   "cell_type": "code",
   "execution_count": 1,
   "metadata": {},
   "outputs": [
    {
     "name": "stdout",
     "output_type": "stream",
     "text": [
      "Current Date: 18 / 12 / 2023\n",
      "Current Time: 15 : 33\n",
      "Timestamp: 1702913621.83871\n"
     ]
    }
   ],
   "source": [
    "#Get the current day, month, year, hour, minute and timestamp from datetime module\n",
    "from datetime import datetime\n",
    "\n",
    "current_datetime = datetime.now()\n",
    "\n",
    "current_day = current_datetime.day\n",
    "current_month = current_datetime.month\n",
    "current_year = current_datetime.year\n",
    "current_hour = current_datetime.hour\n",
    "current_minute = current_datetime.minute\n",
    "\n",
    "timestamp = current_datetime.timestamp()\n",
    "\n",
    "print(\"Current Date:\", current_day, \"/\", current_month, \"/\", current_year)\n",
    "print(\"Current Time:\", current_hour, \":\", current_minute)\n",
    "print(\"Timestamp:\", timestamp)"
   ]
  },
  {
   "cell_type": "markdown",
   "metadata": {},
   "source": [
    "### Exercise 2"
   ]
  },
  {
   "cell_type": "code",
   "execution_count": 2,
   "metadata": {},
   "outputs": [
    {
     "name": "stdout",
     "output_type": "stream",
     "text": [
      "Formatted Date and Time: 12/18/2023, 15:35:10\n"
     ]
    }
   ],
   "source": [
    "#Format the current date using this format: \"%m/%d/%Y, %H:%M:%S\")\n",
    "from datetime import datetime\n",
    "\n",
    "current_datetime = datetime.now()\n",
    "\n",
    "formatted_datetime = current_datetime.strftime(\"%m/%d/%Y, %H:%M:%S\")\n",
    "\n",
    "print(\"Formatted Date and Time:\", formatted_datetime)"
   ]
  },
  {
   "cell_type": "markdown",
   "metadata": {},
   "source": [
    "### Exercise 3"
   ]
  },
  {
   "cell_type": "code",
   "execution_count": 3,
   "metadata": {},
   "outputs": [
    {
     "name": "stdout",
     "output_type": "stream",
     "text": [
      "Converted Datetime: 2019-12-05 00:00:00\n"
     ]
    }
   ],
   "source": [
    "#Today is 5 December, 2019. Change this time string to time.\n",
    "from datetime import datetime\n",
    "\n",
    "time_string = \"5 December, 2019\"\n",
    "\n",
    "datetime_object = datetime.strptime(time_string, \"%d %B, %Y\")\n",
    "\n",
    "print(\"Converted Datetime:\", datetime_object)"
   ]
  },
  {
   "cell_type": "markdown",
   "metadata": {},
   "source": [
    "### Exercise 4"
   ]
  },
  {
   "cell_type": "code",
   "execution_count": 29,
   "metadata": {},
   "outputs": [
    {
     "name": "stdout",
     "output_type": "stream",
     "text": [
      "Time until New Year: 13 days, 7:59:15.267264\n"
     ]
    }
   ],
   "source": [
    "#Calculate the time difference between now and new year.\n",
    "from datetime import datetime, timedelta\n",
    "\n",
    "current_datetime = datetime.now()\n",
    "\n",
    "new_year = datetime(current_datetime.year + 1, 1, 1, 0, 0, 0)\n",
    "\n",
    "time_diff = new_year - current_datetime\n",
    "\n",
    "print(\"Time until New Year:\", time_diff)"
   ]
  },
  {
   "cell_type": "markdown",
   "metadata": {},
   "source": [
    "### Exercise 5"
   ]
  },
  {
   "cell_type": "code",
   "execution_count": 31,
   "metadata": {},
   "outputs": [
    {
     "name": "stdout",
     "output_type": "stream",
     "text": [
      "Time between 1 January 1970 and now is: 19709 days, 16:02:15.215255\n"
     ]
    }
   ],
   "source": [
    "#Calculate the time difference between 1 January 1970 and now.\n",
    "from datetime import datetime, timedelta\n",
    "\n",
    "epoch = datetime(1970, 1, 1, 0, 0, 0)\n",
    "\n",
    "current_datetime = datetime.now()\n",
    "\n",
    "time_diff = current_datetime - epoch\n",
    "\n",
    "print(\"Time between 1 January 1970 and now is:\", time_diff)"
   ]
  },
  {
   "cell_type": "markdown",
   "metadata": {},
   "source": [
    "### Exercise 6"
   ]
  },
  {
   "cell_type": "markdown",
   "metadata": {},
   "source": [
    "#### Think, what can you use the datetime module for?"
   ]
  },
  {
   "cell_type": "markdown",
   "metadata": {},
   "source": [
    "##### Time Series Analysis:\n",
    "\n",
    "The datetime module is crucial for handling timestamps in time series data. It allows for parsing, formatting, and manipulating dates and times. This is essential when working with datasets that have a temporal component."
   ]
  },
  {
   "cell_type": "code",
   "execution_count": 33,
   "metadata": {},
   "outputs": [],
   "source": [
    "from datetime import datetime\n",
    "\n",
    "timestamp = datetime(2023, 1, 1, 12, 18)"
   ]
  },
  {
   "cell_type": "markdown",
   "metadata": {},
   "source": [
    "##### Getting Timestamps for Activities:\n",
    "\n",
    "When tracking activities in an application, you might want to timestamp events to record when they occurred. This is useful for logging, analytics, or auditing purposes."
   ]
  },
  {
   "cell_type": "code",
   "execution_count": 34,
   "metadata": {},
   "outputs": [],
   "source": [
    "from datetime import datetime\n",
    "\n",
    "activity_timestamp = datetime.now()"
   ]
  },
  {
   "cell_type": "markdown",
   "metadata": {},
   "source": [
    "##### Adding Posts on a Blog:\n",
    "\n",
    "When managing a blog, you can use the datetime module to timestamp when blog posts are created or modified. This helps organize and display posts based on their publication dates."
   ]
  },
  {
   "cell_type": "code",
   "execution_count": 35,
   "metadata": {},
   "outputs": [],
   "source": [
    "from datetime import datetime\n",
    "\n",
    "post_timestamp = datetime.now()"
   ]
  }
 ],
 "metadata": {
  "kernelspec": {
   "display_name": "Python 3",
   "language": "python",
   "name": "python3"
  },
  "language_info": {
   "codemirror_mode": {
    "name": "ipython",
    "version": 3
   },
   "file_extension": ".py",
   "mimetype": "text/x-python",
   "name": "python",
   "nbconvert_exporter": "python",
   "pygments_lexer": "ipython3",
   "version": "3.11.3"
  }
 },
 "nbformat": 4,
 "nbformat_minor": 2
}
