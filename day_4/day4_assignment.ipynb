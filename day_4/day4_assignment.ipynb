{
 "cells": [
  {
   "cell_type": "markdown",
   "metadata": {},
   "source": [
    "# Day4 Assignment"
   ]
  },
  {
   "cell_type": "markdown",
   "metadata": {},
   "source": [
    "## Exercises"
   ]
  },
  {
   "cell_type": "markdown",
   "metadata": {},
   "source": [
    "### Exercise 1"
   ]
  },
  {
   "cell_type": "code",
   "execution_count": 162,
   "metadata": {},
   "outputs": [
    {
     "name": "stdout",
     "output_type": "stream",
     "text": [
      "Thirty Days Of Python\n"
     ]
    }
   ],
   "source": [
    "#Concatenate the string 'Thirty', 'Days', 'Of', 'Python' to a single string, 'Thirty Days Of Python'.\n",
    "t = 'Thirty'\n",
    "d = 'Days'\n",
    "o = 'Of'\n",
    "p = 'Python'\n",
    "print(t + ' ' + d + ' ' + o + ' ' + p)"
   ]
  },
  {
   "cell_type": "markdown",
   "metadata": {},
   "source": [
    "### Exercise 2"
   ]
  },
  {
   "cell_type": "code",
   "execution_count": 161,
   "metadata": {},
   "outputs": [
    {
     "name": "stdout",
     "output_type": "stream",
     "text": [
      "Coding For All\n"
     ]
    }
   ],
   "source": [
    "#Concatenate the string 'Coding', 'For' , 'All' to a single string, 'Coding For All'.\n",
    "c = 'Coding'\n",
    "f = 'For'\n",
    "a = 'All'\n",
    "print(c + ' ' + f + ' ' + a)"
   ]
  },
  {
   "cell_type": "markdown",
   "metadata": {},
   "source": [
    "### Exercise 3"
   ]
  },
  {
   "cell_type": "code",
   "execution_count": 160,
   "metadata": {},
   "outputs": [],
   "source": [
    "#Declare a variable named company and assign it to an initial value \"Coding For All\".\n",
    "company = \"Coding For All\""
   ]
  },
  {
   "cell_type": "markdown",
   "metadata": {},
   "source": [
    "### Exercise 4"
   ]
  },
  {
   "cell_type": "code",
   "execution_count": 159,
   "metadata": {},
   "outputs": [
    {
     "name": "stdout",
     "output_type": "stream",
     "text": [
      "Coding For All\n"
     ]
    }
   ],
   "source": [
    "#Print the variable company using print().\n",
    "print(company)"
   ]
  },
  {
   "cell_type": "markdown",
   "metadata": {},
   "source": [
    "### Exercise 5"
   ]
  },
  {
   "cell_type": "code",
   "execution_count": 158,
   "metadata": {},
   "outputs": [
    {
     "name": "stdout",
     "output_type": "stream",
     "text": [
      "14\n"
     ]
    }
   ],
   "source": [
    "#Print the length of the company string using len() method and print().\n",
    "print(len(company))"
   ]
  },
  {
   "cell_type": "markdown",
   "metadata": {},
   "source": [
    "### Exercise 6"
   ]
  },
  {
   "cell_type": "code",
   "execution_count": 157,
   "metadata": {},
   "outputs": [
    {
     "name": "stdout",
     "output_type": "stream",
     "text": [
      "CODING FOR ALL\n"
     ]
    }
   ],
   "source": [
    "#Change all the characters to uppercase letters using upper() method.\n",
    "print(company.upper())"
   ]
  },
  {
   "cell_type": "markdown",
   "metadata": {},
   "source": [
    "### Exercise 7"
   ]
  },
  {
   "cell_type": "code",
   "execution_count": 156,
   "metadata": {},
   "outputs": [
    {
     "name": "stdout",
     "output_type": "stream",
     "text": [
      "coding for all\n"
     ]
    }
   ],
   "source": [
    "#Change all the characters to lowercase letters using lower() method.\n",
    "print(company.lower())"
   ]
  },
  {
   "cell_type": "markdown",
   "metadata": {},
   "source": [
    "### Exercise 8"
   ]
  },
  {
   "cell_type": "code",
   "execution_count": 155,
   "metadata": {},
   "outputs": [
    {
     "name": "stdout",
     "output_type": "stream",
     "text": [
      "Coding for all\n",
      "Coding For All\n",
      "cODING fOR aLL\n"
     ]
    }
   ],
   "source": [
    "#Use capitalize(), title(), swapcase() methods to format the value of the string Coding For All.\n",
    "capitalized_company = company.capitalize()\n",
    "print(capitalized_company)\n",
    "\n",
    "titled_company = company.title()\n",
    "print(titled_company)\n",
    "\n",
    "swapped_company = company.swapcase()\n",
    "print(swapped_company)"
   ]
  },
  {
   "cell_type": "markdown",
   "metadata": {},
   "source": [
    "### Exercise 9"
   ]
  },
  {
   "cell_type": "code",
   "execution_count": 154,
   "metadata": {},
   "outputs": [
    {
     "name": "stdout",
     "output_type": "stream",
     "text": [
      " For All\n"
     ]
    }
   ],
   "source": [
    "#Cut(slice) out the first word of Coding For All string.\n",
    "print(company[6:])"
   ]
  },
  {
   "cell_type": "markdown",
   "metadata": {},
   "source": [
    "### Exercise 10"
   ]
  },
  {
   "cell_type": "code",
   "execution_count": 153,
   "metadata": {},
   "outputs": [
    {
     "name": "stdout",
     "output_type": "stream",
     "text": [
      "The word 'Coding' is in the string\n",
      "The word 'Coding' is in the string\n"
     ]
    }
   ],
   "source": [
    "#Check if Coding For All string contains a word Coding using the method index, find or other methods.\n",
    "if \"Coding\" in company:\n",
    "  print(\"The word 'Coding' is in the string\")\n",
    "else:\n",
    "  print(\"The word 'Coding' is not in the string\")\n",
    "\n",
    "if company.find(\"Coding\") != True:\n",
    "  print(\"The word 'Coding' is in the string\")\n",
    "else:\n",
    "  print(\"The word 'Coding' is not in the string\")"
   ]
  },
  {
   "cell_type": "markdown",
   "metadata": {},
   "source": [
    "### Exercise 11"
   ]
  },
  {
   "cell_type": "code",
   "execution_count": 152,
   "metadata": {},
   "outputs": [
    {
     "name": "stdout",
     "output_type": "stream",
     "text": [
      "Python For All\n"
     ]
    }
   ],
   "source": [
    "#Replace the word coding in the string 'Coding For All' to Python.\n",
    "new_company = company.replace(\"Coding\", \"Python\")\n",
    "print(new_company)"
   ]
  },
  {
   "cell_type": "markdown",
   "metadata": {},
   "source": [
    "### Exercise 12"
   ]
  },
  {
   "cell_type": "code",
   "execution_count": 151,
   "metadata": {},
   "outputs": [
    {
     "name": "stdout",
     "output_type": "stream",
     "text": [
      "Python for All\n"
     ]
    }
   ],
   "source": [
    "#Change Python for Everyone to Python for All using the replace method or other methods.\n",
    "python = 'Python for Everyone'\n",
    "new_python = python.replace(\"Everyone\", \"All\")\n",
    "print(new_python)"
   ]
  },
  {
   "cell_type": "markdown",
   "metadata": {},
   "source": [
    "### Exercise 13"
   ]
  },
  {
   "cell_type": "code",
   "execution_count": 150,
   "metadata": {},
   "outputs": [
    {
     "name": "stdout",
     "output_type": "stream",
     "text": [
      "['Coding', 'For', 'All']\n"
     ]
    }
   ],
   "source": [
    "#Split the string 'Coding For All' using space as the separator (split()) .\n",
    "words = company.split()\n",
    "print(words)"
   ]
  },
  {
   "cell_type": "markdown",
   "metadata": {},
   "source": [
    "### Exercise 14"
   ]
  },
  {
   "cell_type": "code",
   "execution_count": 149,
   "metadata": {},
   "outputs": [
    {
     "name": "stdout",
     "output_type": "stream",
     "text": [
      "['Facebook', ' Google', ' Microsoft', ' Apple', ' IBM', ' Oracle', ' Amazon']\n"
     ]
    }
   ],
   "source": [
    "#\"Facebook, Google, Microsoft, Apple, IBM, Oracle, Amazon\" split the string at the comma.\n",
    "companies = \"Facebook, Google, Microsoft, Apple, IBM, Oracle, Amazon\"\n",
    "company_list = companies.split(\",\")\n",
    "print(company_list)"
   ]
  },
  {
   "cell_type": "markdown",
   "metadata": {},
   "source": [
    "### Exercise 15"
   ]
  },
  {
   "cell_type": "code",
   "execution_count": 148,
   "metadata": {},
   "outputs": [
    {
     "name": "stdout",
     "output_type": "stream",
     "text": [
      "C\n"
     ]
    }
   ],
   "source": [
    "#What is the character at index 0 in the string Coding For All.\n",
    "character = company[0]\n",
    "print(character)"
   ]
  },
  {
   "cell_type": "markdown",
   "metadata": {},
   "source": [
    "### Exercise 16"
   ]
  },
  {
   "cell_type": "code",
   "execution_count": 147,
   "metadata": {},
   "outputs": [
    {
     "name": "stdout",
     "output_type": "stream",
     "text": [
      "13\n"
     ]
    }
   ],
   "source": [
    "#What is the last index of the string Coding For All.\n",
    "last_index = len(company) - 1\n",
    "print(last_index)"
   ]
  },
  {
   "cell_type": "markdown",
   "metadata": {},
   "source": [
    "### Exercise 17"
   ]
  },
  {
   "cell_type": "code",
   "execution_count": 146,
   "metadata": {},
   "outputs": [
    {
     "name": "stdout",
     "output_type": "stream",
     "text": [
      " \n"
     ]
    }
   ],
   "source": [
    "#What character is at index 10 in \"Coding For All\" string.\n",
    "company = 'Coding For All'\n",
    "character_index_10 = company[10]\n",
    "print(character_index_10)"
   ]
  },
  {
   "cell_type": "markdown",
   "metadata": {},
   "source": [
    "### Exercise 18"
   ]
  },
  {
   "cell_type": "code",
   "execution_count": 105,
   "metadata": {},
   "outputs": [
    {
     "name": "stdout",
     "output_type": "stream",
     "text": [
      "PF\n"
     ]
    }
   ],
   "source": [
    "#Create an acronym or an abbreviation for the name 'Python For Everyone'.\n",
    "#Python, For, Everyone = 'P', 'F','E' \n",
    "#print(Python, For, Everyone)\n",
    "acronym = 'Python For Everyone'\n",
    "PFE = acronym[0:8:7] \n",
    "print(PFE) "
   ]
  },
  {
   "cell_type": "markdown",
   "metadata": {},
   "source": [
    "### Exercise 19"
   ]
  },
  {
   "cell_type": "code",
   "execution_count": 104,
   "metadata": {},
   "outputs": [
    {
     "name": "stdout",
     "output_type": "stream",
     "text": [
      "CF\n"
     ]
    }
   ],
   "source": [
    "#Create an acronym or an abbreviation for the name 'Coding For All'.\n",
    "#Coding, For, All = 'C', 'F', 'A'\n",
    "#print(Coding, For, All)\n",
    "acrnym = 'Coding For All'\n",
    "CFA = acrnym[0:14:7]\n",
    "print(CFA) "
   ]
  },
  {
   "cell_type": "markdown",
   "metadata": {},
   "source": [
    "### Exercise 20"
   ]
  },
  {
   "cell_type": "code",
   "execution_count": 142,
   "metadata": {},
   "outputs": [
    {
     "name": "stdout",
     "output_type": "stream",
     "text": [
      "The first occurrence of 'C' is at index: 0\n"
     ]
    }
   ],
   "source": [
    "#Use index to determine the position of the first occurrence of C in Coding For All.\n",
    "c_string = 'Coding For All'\n",
    "c_index = c_string.index('C')\n",
    "print(\"The first occurrence of 'C' is at index:\", c_index)"
   ]
  },
  {
   "cell_type": "markdown",
   "metadata": {},
   "source": [
    "### Exercise 21"
   ]
  },
  {
   "cell_type": "code",
   "execution_count": 107,
   "metadata": {},
   "outputs": [
    {
     "name": "stdout",
     "output_type": "stream",
     "text": [
      "Position of the first 'F': 7\n"
     ]
    }
   ],
   "source": [
    "#Use index to determine the position of the first occurrence of F in Coding For All.\n",
    "occurence = \"Coding For All\"\n",
    "index_of_F = occurence.index('F')\n",
    "print(\"Position of the first 'F':\", index_of_F)"
   ]
  },
  {
   "cell_type": "markdown",
   "metadata": {},
   "source": [
    "### Exercise 22"
   ]
  },
  {
   "cell_type": "code",
   "execution_count": 108,
   "metadata": {},
   "outputs": [
    {
     "name": "stdout",
     "output_type": "stream",
     "text": [
      "Last index of 'l': 19\n"
     ]
    }
   ],
   "source": [
    "#Use rfind to determine the position of the last occurrence of l in Coding For All People.\n",
    "strng = \"Coding For All People\"\n",
    "last_index_of_l = strng.rfind('l')\n",
    "print(\"Last index of 'l':\", last_index_of_l)"
   ]
  },
  {
   "cell_type": "markdown",
   "metadata": {},
   "source": [
    "### Exercise 23"
   ]
  },
  {
   "cell_type": "code",
   "execution_count": 113,
   "metadata": {},
   "outputs": [
    {
     "name": "stdout",
     "output_type": "stream",
     "text": [
      "Position of the first 'because': 31\n"
     ]
    }
   ],
   "source": [
    "#Use index or find to find the position of the first occurrence of the word 'because' in the following sentence: 'You cannot end a sentence with because because because is a conjunction'\n",
    "sentence = \"You cannot end a sentence with because because because is a conjunction\"\n",
    "first_index= sentence.index('because')\n",
    "print(\"Position of the first 'because':\", first_index)"
   ]
  },
  {
   "cell_type": "markdown",
   "metadata": {},
   "source": [
    "### Exercise 24"
   ]
  },
  {
   "cell_type": "code",
   "execution_count": 111,
   "metadata": {},
   "outputs": [
    {
     "name": "stdout",
     "output_type": "stream",
     "text": [
      "Position of the last 'because': 47\n"
     ]
    }
   ],
   "source": [
    "#Use rindex to find the position of the last occurrence of the word because in the following sentence: 'You cannot end a sentence with because because because is a conjunction'\n",
    "sentence = \"You cannot end a sentence with because because because is a conjunction\"\n",
    "last_index = sentence.rfind('because')\n",
    "print(\"Position of the last 'because':\", last_index)"
   ]
  },
  {
   "cell_type": "markdown",
   "metadata": {},
   "source": [
    "### Exercise 25"
   ]
  },
  {
   "cell_type": "code",
   "execution_count": 118,
   "metadata": {},
   "outputs": [
    {
     "name": "stdout",
     "output_type": "stream",
     "text": [
      "Sliced phrase:  because because because \n"
     ]
    }
   ],
   "source": [
    "#Slice out the phrase 'because because because' in the following sentence: 'You cannot end a sentence with because because because is a conjunction'\n",
    "sentence = \"You cannot end a sentence with because because because is a conjunction\"\n",
    "sliced_phrase = sentence[30:55]\n",
    "print(\"Sliced phrase:\", sliced_phrase)"
   ]
  },
  {
   "cell_type": "markdown",
   "metadata": {},
   "source": [
    "### Exercise 26"
   ]
  },
  {
   "cell_type": "code",
   "execution_count": 119,
   "metadata": {},
   "outputs": [
    {
     "name": "stdout",
     "output_type": "stream",
     "text": [
      "Position of the first 'because': 31\n"
     ]
    }
   ],
   "source": [
    "#Find the position of the first occurrence of the word 'because' in the following sentence: 'You cannot end a sentence with because because because is a conjunction'\n",
    "sentence = \"You cannot end a sentence with because because because is a conjunction\"\n",
    "index_of_first_because = sentence.find(\"because\")\n",
    "print(\"Position of the first 'because':\", index_of_first_because)"
   ]
  },
  {
   "cell_type": "markdown",
   "metadata": {},
   "source": [
    "### Exercise 27"
   ]
  },
  {
   "cell_type": "code",
   "execution_count": 120,
   "metadata": {},
   "outputs": [
    {
     "name": "stdout",
     "output_type": "stream",
     "text": [
      "Sliced phrase:  because because because \n"
     ]
    }
   ],
   "source": [
    "#Slice out the phrase 'because because because' in the following sentence: 'You cannot end a sentence with because because because is a conjunction'\n",
    "sentence = \"You cannot end a sentence with because because because is a conjunction\"\n",
    "sliced_phrase = sentence[30:55]\n",
    "print(\"Sliced phrase:\", sliced_phrase)"
   ]
  },
  {
   "cell_type": "markdown",
   "metadata": {},
   "source": [
    "### Exercise 28"
   ]
  },
  {
   "cell_type": "code",
   "execution_count": 121,
   "metadata": {},
   "outputs": [
    {
     "name": "stdout",
     "output_type": "stream",
     "text": [
      "True\n"
     ]
    }
   ],
   "source": [
    "#Does ''Coding For All' start with a substring Coding?\n",
    "a = \"Coding For All\"\n",
    "b = \"Coding\"\n",
    "print(a.startswith(b))"
   ]
  },
  {
   "cell_type": "markdown",
   "metadata": {},
   "source": [
    "### Exercise 29"
   ]
  },
  {
   "cell_type": "code",
   "execution_count": 122,
   "metadata": {},
   "outputs": [
    {
     "name": "stdout",
     "output_type": "stream",
     "text": [
      "False\n"
     ]
    }
   ],
   "source": [
    "#Does 'Coding For All' end with a substring coding?\n",
    "a = \"Coding For All\"\n",
    "b = \"Coding\"\n",
    "print(a.endswith(b))"
   ]
  },
  {
   "cell_type": "markdown",
   "metadata": {},
   "source": [
    "### Exercise 30"
   ]
  },
  {
   "cell_type": "code",
   "execution_count": 123,
   "metadata": {},
   "outputs": [
    {
     "name": "stdout",
     "output_type": "stream",
     "text": [
      "Coding For All\n"
     ]
    }
   ],
   "source": [
    "#'   Coding For All      '  , remove the left and right trailing spaces in the given string.\n",
    "a = \"  Coding For All    \"\n",
    "print(a.strip())"
   ]
  },
  {
   "cell_type": "markdown",
   "metadata": {},
   "source": [
    "### Exercise 31"
   ]
  },
  {
   "cell_type": "code",
   "execution_count": 125,
   "metadata": {},
   "outputs": [
    {
     "name": "stdout",
     "output_type": "stream",
     "text": [
      "Variable 1 (30DaysOfPython) is an identifier: False\n",
      "Variable 2 (thirty_days_of_python) is an identifier: True\n"
     ]
    }
   ],
   "source": [
    "\"\"\"Which one of the following variables return True when we use the method isidentifier():\n",
    "30DaysOfPython\n",
    "thirty_days_of_python\"\"\"\n",
    "var1 = \"30DaysOfPython\"\n",
    "identifier1 = var1.isidentifier()\n",
    "print(\"Variable 1 (30DaysOfPython) is an identifier:\", identifier1)\n",
    "\n",
    "var2 = \"thirty_days_of_python\"\n",
    "identifier2 = var2.isidentifier()\n",
    "print(\"Variable 2 (thirty_days_of_python) is an identifier:\", identifier2)"
   ]
  },
  {
   "cell_type": "markdown",
   "metadata": {},
   "source": [
    "### Exercise 32"
   ]
  },
  {
   "cell_type": "code",
   "execution_count": 141,
   "metadata": {},
   "outputs": [
    {
     "name": "stdout",
     "output_type": "stream",
     "text": [
      "Django# Flask# Bottle# Pyramid# Falcon\n"
     ]
    }
   ],
   "source": [
    "#The following list contains the names of some of python libraries: ['Django', 'Flask', 'Bottle', 'Pyramid', 'Falcon']. Join the list with a hash with space string.\n",
    "libraries = ['Django', 'Flask', 'Bottle', 'Pyramid', 'Falcon']\n",
    "join_libraries = '# '.join(libraries)\n",
    "print(join_libraries)"
   ]
  },
  {
   "cell_type": "markdown",
   "metadata": {},
   "source": [
    "### Exercise 33"
   ]
  },
  {
   "cell_type": "code",
   "execution_count": 140,
   "metadata": {},
   "outputs": [
    {
     "name": "stdout",
     "output_type": "stream",
     "text": [
      "I am enjoying this challenge.\n",
      "I just wonder what is next.\n"
     ]
    }
   ],
   "source": [
    "\"\"\"Use the new line escape sequence to separate the following sentences.\n",
    "I am enjoying this challenge.I just wonder what is next.\"\"\"\n",
    "sentences = \"I am enjoying this challenge.\" + \"\\nI just wonder what is next.\"\n",
    "print(sentences)"
   ]
  },
  {
   "cell_type": "markdown",
   "metadata": {},
   "source": [
    "### Exercise 34"
   ]
  },
  {
   "cell_type": "code",
   "execution_count": 139,
   "metadata": {},
   "outputs": [
    {
     "name": "stdout",
     "output_type": "stream",
     "text": [
      "Name\t\tAge\t\tCountry\t\tCity\n",
      "Asabeneh\t250\t\tFinland\t\tHelsinki\n"
     ]
    }
   ],
   "source": [
    "\"\"\"Use a tab escape sequence to write the following lines.\n",
    "Name      Age     Country   City\n",
    "Asabeneh  250     Finland   Helsinki\"\"\"\n",
    "print(\"Name\\t\\tAge\\t\\tCountry\\t\\tCity\")\n",
    "print(\"Asabeneh\\t250\\t\\tFinland\\t\\tHelsinki\")"
   ]
  },
  {
   "cell_type": "markdown",
   "metadata": {},
   "source": [
    "### Exercise 35"
   ]
  },
  {
   "cell_type": "code",
   "execution_count": 137,
   "metadata": {},
   "outputs": [
    {
     "name": "stdout",
     "output_type": "stream",
     "text": [
      "The area of a circle with radius 10 is 314.00 meters square.\n"
     ]
    }
   ],
   "source": [
    "\"\"\"Use the string formatting method to display the following:\n",
    "radius = 10\n",
    "area = 3.14 * radius ** 2\n",
    "The area of a circle with radius 10 is 314 meters square.\"\"\"\n",
    "radius = 10\n",
    "area = 3.14 * radius ** 2\n",
    "\n",
    "text = f\"The area of a circle with radius {radius} is {area:.2f} meters square.\"\n",
    "print(text)"
   ]
  },
  {
   "cell_type": "markdown",
   "metadata": {},
   "source": [
    "### Exercise 36"
   ]
  },
  {
   "cell_type": "code",
   "execution_count": 165,
   "metadata": {},
   "outputs": [
    {
     "name": "stdout",
     "output_type": "stream",
     "text": [
      "8 + 6 = 14\n",
      "8 - 6 = 2\n",
      "8 * 6 = 48\n",
      "8 / 6 = 1.33\n",
      "8 % 6 = 2\n",
      "8 // 6 = 1\n",
      "8 ** 6 = 262144\n"
     ]
    }
   ],
   "source": [
    "\"\"\"Make the following using string formatting methods:\n",
    "8 + 6 = 14\n",
    "8 - 6 = 2\n",
    "8 * 6 = 48\n",
    "8 / 6 = 1.33\n",
    "8 % 6 = 2\n",
    "8 // 6 = 1\n",
    "8 ** 6 = 262144\"\"\"\n",
    "a = 8\n",
    "b = 6\n",
    "sum = a + b\n",
    "difference = a - b\n",
    "product = a * b\n",
    "quotient = a / b\n",
    "remainder = a % b\n",
    "integer_division = a // b\n",
    "exponent = a ** b\n",
    "\n",
    "print(f\"{a} + {b} = {sum}\")\n",
    "print(f\"{a} - {b} = {difference}\")\n",
    "print(f\"{a} * {b} = {product}\")\n",
    "print(f\"{a} / {b} = {quotient:.2f}\")\n",
    "print(f\"{a} % {b} = {remainder}\")\n",
    "print(f\"{a} // {b} = {integer_division}\")\n",
    "print(f\"{a} ** {b} = {exponent}\")"
   ]
  }
 ],
 "metadata": {
  "kernelspec": {
   "display_name": "Python 3",
   "language": "python",
   "name": "python3"
  },
  "language_info": {
   "codemirror_mode": {
    "name": "ipython",
    "version": 3
   },
   "file_extension": ".py",
   "mimetype": "text/x-python",
   "name": "python",
   "nbconvert_exporter": "python",
   "pygments_lexer": "ipython3",
   "version": "3.11.3"
  }
 },
 "nbformat": 4,
 "nbformat_minor": 2
}
